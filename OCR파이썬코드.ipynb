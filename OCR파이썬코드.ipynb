{
 "cells": [
  {
   "cell_type": "markdown",
   "id": "ce3ebdea-c27f-4ce8-bc67-3c9f259bf572",
   "metadata": {},
   "source": [
    "# 파일 다운로드"
   ]
  },
  {
   "cell_type": "code",
   "execution_count": null,
   "id": "3b39b3b9-e7a3-4381-84ee-d7fab37e1fb2",
   "metadata": {},
   "outputs": [],
   "source": [
    "pip install google-cloud-vision"
   ]
  },
  {
   "cell_type": "code",
   "execution_count": null,
   "id": "62e60594-ab60-4daf-b505-0f19078c6dcf",
   "metadata": {},
   "outputs": [],
   "source": [
    "pip install google-cloud-storage"
   ]
  },
  {
   "cell_type": "code",
   "execution_count": null,
   "id": "98405c8e-8ce0-47bb-8c38-7204d6e33585",
   "metadata": {},
   "outputs": [],
   "source": [
    "pip install Flask"
   ]
  },
  {
   "cell_type": "markdown",
   "id": "35eee671-4f04-4042-9d14-f022e7157c9a",
   "metadata": {},
   "source": [
    "# 플라스크에서 이미지를 받아와서 GCS에 업로드 - q"
   ]
  },
  {
   "cell_type": "code",
   "execution_count": null,
   "id": "a46f976c-d8e0-4592-b48c-2fd153a31498",
   "metadata": {},
   "outputs": [
    {
     "name": "stdout",
     "output_type": "stream",
     "text": [
      " * Serving Flask app '__main__'\n",
      " * Debug mode: off\n"
     ]
    },
    {
     "name": "stderr",
     "output_type": "stream",
     "text": [
      "WARNING: This is a development server. Do not use it in a production deployment. Use a production WSGI server instead.\n",
      " * Running on all addresses (0.0.0.0)\n",
      " * Running on http://127.0.0.1:5000\n",
      " * Running on http://192.168.219.50:5000\n",
      "Press CTRL+C to quit\n"
     ]
    },
    {
     "name": "stdout",
     "output_type": "stream",
     "text": [
      "Blob 4.jpg downloaded to temp_image.jpg.\n"
     ]
    },
    {
     "name": "stderr",
     "output_type": "stream",
     "text": [
      "127.0.0.1 - - [17/Jun/2024 09:13:10] \"POST /process_image HTTP/1.1\" 200 -\n"
     ]
    },
    {
     "name": "stdout",
     "output_type": "stream",
     "text": [
      "Output 저장 완료: gs://plzbe/output.txt\n"
     ]
    }
   ],
   "source": [
    "import os\n",
    "import base64\n",
    "import requests\n",
    "from google.cloud import storage, vision\n",
    "from google.oauth2 import service_account\n",
    "import json\n",
    "import re\n",
    "from flask import Flask, request, jsonify, send_file\n",
    "\n",
    "app = Flask(__name__)\n",
    "app.config['DEBUG'] = False\n",
    "\n",
    "# API 키 설정 및 클라이언트 초기화\n",
    "credentials = service_account.Credentials.from_service_account_file('api_key4.json')\n",
    "vision_client = vision.ImageAnnotatorClient(credentials=credentials)\n",
    "storage_client = storage.Client(credentials=credentials)\n",
    "\n",
    "def download_image_from_gcs(bucket_name, source_blob_name, destination_file_name):\n",
    "    bucket = storage_client.bucket(bucket_name)\n",
    "    blob = bucket.blob(source_blob_name)\n",
    "    blob.download_to_filename(destination_file_name)\n",
    "    print(f\"Blob {source_blob_name} downloaded to {destination_file_name}.\")\n",
    "\n",
    "def extract_expiry_date(image_path):\n",
    "    with open(image_path, 'rb') as image_file:\n",
    "        content = image_file.read()\n",
    "\n",
    "    image = vision.Image(content=content)\n",
    "    response = vision_client.text_detection(image=image)\n",
    "    texts = response.text_annotations\n",
    "\n",
    "    # 오류 처리\n",
    "    if not texts:\n",
    "        raise KeyError(\"응답에 'textAnnotations' 키가 없습니다.\")\n",
    "\n",
    "    # 추출된 텍스트 중에서 유통기한 정보 추출 (예: 정규표현식 사용)\n",
    "    expiry_date = None\n",
    "\n",
    "    # 날짜 패턴 정규 표현식 (예: YYYY-MM-DD, YYYY/MM/DD, YYYY.MM.DD)\n",
    "    date_patterns = [\n",
    "        r'\\d{4}-\\d{2}-\\d{2}',  # YYYY-MM-DD\n",
    "        r'\\d{4}/\\d{2}/\\d{2}',  # YYYY/MM/DD\n",
    "        r'\\d{4}\\.\\d{2}\\.\\d{2}',  # YYYY.MM.DD\n",
    "        r'\\d{2}-\\d{2}-\\d{2}',  # YY-MM-DD\n",
    "        r'\\d{2}/\\d{2}/\\d{2}',  # YY/MM/DD\n",
    "        r'\\d{2}\\.\\d{2}\\.\\d{2}'  # YY.MM.DD\n",
    "    ]\n",
    "\n",
    "    for text in texts:\n",
    "        description = text.description\n",
    "        for pattern in date_patterns:\n",
    "            match = re.search(pattern, description)\n",
    "            if match:\n",
    "                expiry_date = match.group()\n",
    "                break\n",
    "        if expiry_date:\n",
    "            break\n",
    "\n",
    "    return expiry_date\n",
    "    \n",
    "def save_output_to_gcs(bucket_name, destination_blob_name, output_data):\n",
    "    \"\"\"구글 스토리지에 출력 값을 저장합니다.\"\"\"\n",
    "    bucket = storage_client.bucket(bucket_name)\n",
    "    blob = bucket.blob(destination_blob_name)\n",
    "\n",
    "    # 출력 값을 문자열로 변환하여 저장합니다.\n",
    "    output_str = str(output_data)\n",
    "\n",
    "    # 객체에 데이터를 씁니다.\n",
    "    blob.upload_from_string(output_str)\n",
    "\n",
    "    print(f\"Output 저장 완료: gs://{bucket_name}/{destination_blob_name}\")\n",
    "\n",
    "@app.route('/process_image', methods=['POST'])\n",
    "def process_image():\n",
    "    data = request.json\n",
    "    bucket_name = data['bucket_name']\n",
    "    source_blob_name = data['source_blob_name']\n",
    "    destination_file_name = 'temp_image.jpg'\n",
    "    destination_blob_name = data['destination_blob_name']\n",
    "\n",
    "    try:\n",
    "        download_image_from_gcs(bucket_name, source_blob_name, destination_file_name)\n",
    "        expiry_date = extract_expiry_date(destination_file_name)\n",
    "        save_output_to_gcs(bucket_name, destination_blob_name, {\"expiry_date\": expiry_date})\n",
    "        return jsonify({\"status\": \"success\", \"expiry_date\": expiry_date})\n",
    "    except KeyError as e:\n",
    "        app.logger.error(f\"Key error: {e}\", exc_info=True)\n",
    "        return jsonify({\"status\": \"error\", \"message\": f\"Key error: {e}\"}), 400\n",
    "    except Exception as e:\n",
    "        app.logger.error(f\"Error: {e}\", exc_info=True)\n",
    "        return jsonify({\"status\": \"error\", \"message\": f\"Error: {e}\"}), 500\n",
    "\n",
    "if __name__ == '__main__':\n",
    "    app.run(host='0.0.0.0', port=5000)\n"
   ]
  },
  {
   "cell_type": "markdown",
   "id": "e8e0273e-0669-4288-a1f9-32eb09e70ad6",
   "metadata": {},
   "source": [
    "# GCS에 있는 이미지를 OCR시켜서 날짜 데이터를 반환하게 하는 코드 - c"
   ]
  },
  {
   "cell_type": "code",
   "execution_count": null,
   "id": "43db3bbd-c1fe-4e6f-96d2-d92c3e65693b",
   "metadata": {},
   "outputs": [
    {
     "name": "stdout",
     "output_type": "stream",
     "text": [
      " * Serving Flask app '__main__'\n",
      " * Debug mode: off\n"
     ]
    },
    {
     "name": "stderr",
     "output_type": "stream",
     "text": [
      "WARNING: This is a development server. Do not use it in a production deployment. Use a production WSGI server instead.\n",
      " * Running on all addresses (0.0.0.0)\n",
      " * Running on http://127.0.0.1:5000\n",
      " * Running on http://192.168.219.50:5000\n",
      "Press CTRL+C to quit\n"
     ]
    }
   ],
   "source": [
    "import os\n",
    "import base64\n",
    "import requests\n",
    "from google.cloud import storage, vision\n",
    "from google.oauth2 import service_account\n",
    "import json\n",
    "import re\n",
    "from flask import Flask, request, jsonify\n",
    "\n",
    "app = Flask(__name__)\n",
    "app.config['DEBUG'] = False\n",
    "\n",
    "# API 키 설정 및 클라이언트 초기화\n",
    "credentials = service_account.Credentials.from_service_account_file('api_key4.json')\n",
    "vision_client = vision.ImageAnnotatorClient(credentials=credentials)\n",
    "storage_client = storage.Client(credentials=credentials)\n",
    "\n",
    "def download_image_from_gcs(bucket_name, source_blob_name, destination_file_name):\n",
    "    bucket = storage_client.bucket(bucket_name)\n",
    "    blob = bucket.blob(source_blob_name)\n",
    "    blob.download_to_filename(destination_file_name)\n",
    "    print(f\"Blob {source_blob_name} downloaded to {destination_file_name}.\")\n",
    "\n",
    "def extract_expiry_date(image_path):\n",
    "    with open(image_path, 'rb') as image_file:\n",
    "        content = image_file.read()\n",
    "\n",
    "    image = vision.Image(content=content)\n",
    "    response = vision_client.text_detection(image=image)\n",
    "    texts = response.text_annotations\n",
    "\n",
    "    # 오류 처리\n",
    "    if not texts:\n",
    "        raise KeyError(\"응답에 'textAnnotations' 키가 없습니다.\")\n",
    "\n",
    "    # 추출된 텍스트 중에서 유통기한 정보 추출 (예: 정규표현식 사용)\n",
    "    expiry_date = None\n",
    "\n",
    "    # 날짜 패턴 정규 표현식 (예: YYYY-MM-DD, YYYY/MM/DD, YYYY.MM.DD)\n",
    "    date_patterns = [\n",
    "        r'\\d{4}-\\d{2}-\\d{2}',  # YYYY-MM-DD\n",
    "        r'\\d{4}/\\d{2}/\\d{2}',  # YYYY/MM/DD\n",
    "        r'\\d{4}\\.\\d{2}\\.\\d{2}',  # YYYY.MM.DD\n",
    "        r'\\d{2}-\\d{2}-\\d{2}',  # YY-MM-DD\n",
    "        r'\\d{2}/\\d{2}/\\d{2}',  # YY/MM/DD\n",
    "        r'\\d{2}\\.\\d{2}\\.\\d{2}'  # YY.MM.DD\n",
    "    ]\n",
    "\n",
    "    for text in texts:\n",
    "        descr롤대남주거iption = text.description\n",
    "        for pattern in date_patterns:\n",
    "            match = re.search(pattern, description)\n",
    "            if match:\n",
    "                expiry_date = match.group()\n",
    "                break\n",
    "        if expiry_date:\n",
    "            break\n",
    "\n",
    "    return expiry_date\n",
    "    \n",
    "def save_output_to_gcs(bucket_name, destination_blob_name, output_data):\n",
    "    \"\"\"구글 스토리지에 출력 값을 저장합니다.\"\"\"\n",
    "    bucket = storage_client.bucket(bucket_name)\n",
    "    blob = bucket.blob(destination_blob_name)\n",
    "\n",
    "    # 출력 값을 문자열로 변환하여 저장합니다.\n",
    "    output_str = str(output_data)\n",
    "\n",
    "    # 객체에 데이터를 씁니다.\n",
    "    blob.upload_from_string(output_str)\n",
    "\n",
    "    print(f\"Output 저장 완료: gs://{bucket_name}/{destination_blob_name}\")\n",
    "\n",
    "@app.route('/process_image', methods=['POST'])\n",
    "def process_image():\n",
    "    data = request.json\n",
    "    bucket_name = data['bucket_name']\n",
    "    source_blob_name = data['source_blob_name']\n",
    "    destination_file_name = 'temp_image.jpg'\n",
    "    destination_blob_name = data['destination_blob_name']\n",
    "\n",
    "    try:\n",
    "        download_image_from_gcs(bucket_name, source_blob_name, destination_file_name)\n",
    "        expiry_date = extract_expiry_date(destination_file_name)\n",
    "        save_output_to_gcs(bucket_name, destination_blob_name, {\"expiry_date\": expiry_date})\n",
    "        return jsonify({\"status\": \"success\", \"expiry_date\": expiry_date})\n",
    "    except KeyError as e:\n",
    "        app.logger.error(f\"Key error: {e}\", exc_info=True)\n",
    "        return jsonify({\"status\": \"error\", \"message\": f\"Key error: {e}\"}), 400\n",
    "    except Exception as e:\n",
    "        app.logger.error(f\"Error: {e}\", exc_info=True)\n",
    "        return jsonify({\"status\": \"error\", \"message\": f\"Error: {e}\"}), 500\n",
    "\n",
    "if __name__ == '__main__':\n",
    "    app.run(host='0.0.0.0', port=5000)\n"
   ]
  },
  {
   "cell_type": "markdown",
   "id": "5269604a-b35c-4362-aa62-bf6fe540d546",
   "metadata": {},
   "source": [
    "# 두 개 합치기 - f"
   ]
  },
  {
   "cell_type": "code",
   "execution_count": 43,
   "id": "eeb593ee-2e8e-422a-8056-3a06b1a0910c",
   "metadata": {},
   "outputs": [
    {
     "ename": "FileNotFoundError",
     "evalue": "[Errno 2] No such file or directory: 'api_key4.json'",
     "output_type": "error",
     "traceback": [
      "\u001b[1;31m---------------------------------------------------------------------------\u001b[0m",
      "\u001b[1;31mFileNotFoundError\u001b[0m                         Traceback (most recent call last)",
      "Cell \u001b[1;32mIn[43], line 10\u001b[0m\n\u001b[0;32m      6\u001b[0m \u001b[38;5;28;01mfrom\u001b[39;00m \u001b[38;5;21;01mflask\u001b[39;00m \u001b[38;5;28;01mimport\u001b[39;00m Flask, request, jsonify\n\u001b[0;32m      8\u001b[0m app \u001b[38;5;241m=\u001b[39m Flask(\u001b[38;5;18m__name__\u001b[39m)\n\u001b[1;32m---> 10\u001b[0m credentials \u001b[38;5;241m=\u001b[39m service_account\u001b[38;5;241m.\u001b[39mCredentials\u001b[38;5;241m.\u001b[39mfrom_service_account_file(\u001b[38;5;124m'\u001b[39m\u001b[38;5;124mapi_key4.json\u001b[39m\u001b[38;5;124m'\u001b[39m)\n\u001b[0;32m     11\u001b[0m vision_client \u001b[38;5;241m=\u001b[39m vision\u001b[38;5;241m.\u001b[39mImageAnnotatorClient(credentials\u001b[38;5;241m=\u001b[39mcredentials)\n\u001b[0;32m     12\u001b[0m storage_client \u001b[38;5;241m=\u001b[39m storage\u001b[38;5;241m.\u001b[39mClient(credentials\u001b[38;5;241m=\u001b[39mcredentials)\n",
      "File \u001b[1;32m~\\anaconda3\\Lib\\site-packages\\google\\oauth2\\service_account.py:258\u001b[0m, in \u001b[0;36mCredentials.from_service_account_file\u001b[1;34m(cls, filename, **kwargs)\u001b[0m\n\u001b[0;32m    246\u001b[0m \u001b[38;5;129m@classmethod\u001b[39m\n\u001b[0;32m    247\u001b[0m \u001b[38;5;28;01mdef\u001b[39;00m \u001b[38;5;21mfrom_service_account_file\u001b[39m(\u001b[38;5;28mcls\u001b[39m, filename, \u001b[38;5;241m*\u001b[39m\u001b[38;5;241m*\u001b[39mkwargs):\n\u001b[0;32m    248\u001b[0m \u001b[38;5;250m    \u001b[39m\u001b[38;5;124;03m\"\"\"Creates a Credentials instance from a service account json file.\u001b[39;00m\n\u001b[0;32m    249\u001b[0m \n\u001b[0;32m    250\u001b[0m \u001b[38;5;124;03m    Args:\u001b[39;00m\n\u001b[1;32m   (...)\u001b[0m\n\u001b[0;32m    256\u001b[0m \u001b[38;5;124;03m            credentials.\u001b[39;00m\n\u001b[0;32m    257\u001b[0m \u001b[38;5;124;03m    \"\"\"\u001b[39;00m\n\u001b[1;32m--> 258\u001b[0m     info, signer \u001b[38;5;241m=\u001b[39m _service_account_info\u001b[38;5;241m.\u001b[39mfrom_filename(\n\u001b[0;32m    259\u001b[0m         filename, require\u001b[38;5;241m=\u001b[39m[\u001b[38;5;124m\"\u001b[39m\u001b[38;5;124mclient_email\u001b[39m\u001b[38;5;124m\"\u001b[39m, \u001b[38;5;124m\"\u001b[39m\u001b[38;5;124mtoken_uri\u001b[39m\u001b[38;5;124m\"\u001b[39m]\n\u001b[0;32m    260\u001b[0m     )\n\u001b[0;32m    261\u001b[0m     \u001b[38;5;28;01mreturn\u001b[39;00m \u001b[38;5;28mcls\u001b[39m\u001b[38;5;241m.\u001b[39m_from_signer_and_info(signer, info, \u001b[38;5;241m*\u001b[39m\u001b[38;5;241m*\u001b[39mkwargs)\n",
      "File \u001b[1;32m~\\anaconda3\\Lib\\site-packages\\google\\auth\\_service_account_info.py:78\u001b[0m, in \u001b[0;36mfrom_filename\u001b[1;34m(filename, require, use_rsa_signer)\u001b[0m\n\u001b[0;32m     64\u001b[0m \u001b[38;5;28;01mdef\u001b[39;00m \u001b[38;5;21mfrom_filename\u001b[39m(filename, require\u001b[38;5;241m=\u001b[39m\u001b[38;5;28;01mNone\u001b[39;00m, use_rsa_signer\u001b[38;5;241m=\u001b[39m\u001b[38;5;28;01mTrue\u001b[39;00m):\n\u001b[0;32m     65\u001b[0m \u001b[38;5;250m    \u001b[39m\u001b[38;5;124;03m\"\"\"Reads a Google service account JSON file and returns its parsed info.\u001b[39;00m\n\u001b[0;32m     66\u001b[0m \n\u001b[0;32m     67\u001b[0m \u001b[38;5;124;03m    Args:\u001b[39;00m\n\u001b[1;32m   (...)\u001b[0m\n\u001b[0;32m     76\u001b[0m \u001b[38;5;124;03m            info and a signer instance.\u001b[39;00m\n\u001b[0;32m     77\u001b[0m \u001b[38;5;124;03m    \"\"\"\u001b[39;00m\n\u001b[1;32m---> 78\u001b[0m     \u001b[38;5;28;01mwith\u001b[39;00m io\u001b[38;5;241m.\u001b[39mopen(filename, \u001b[38;5;124m\"\u001b[39m\u001b[38;5;124mr\u001b[39m\u001b[38;5;124m\"\u001b[39m, encoding\u001b[38;5;241m=\u001b[39m\u001b[38;5;124m\"\u001b[39m\u001b[38;5;124mutf-8\u001b[39m\u001b[38;5;124m\"\u001b[39m) \u001b[38;5;28;01mas\u001b[39;00m json_file:\n\u001b[0;32m     79\u001b[0m         data \u001b[38;5;241m=\u001b[39m json\u001b[38;5;241m.\u001b[39mload(json_file)\n\u001b[0;32m     80\u001b[0m         \u001b[38;5;28;01mreturn\u001b[39;00m data, from_dict(data, require\u001b[38;5;241m=\u001b[39mrequire, use_rsa_signer\u001b[38;5;241m=\u001b[39muse_rsa_signer)\n",
      "\u001b[1;31mFileNotFoundError\u001b[0m: [Errno 2] No such file or directory: 'api_key4.json'"
     ]
    }
   ],
   "source": [
    "import os\n",
    "import re\n",
    "from datetime import datetime\n",
    "from google.cloud import storage, vision\n",
    "from google.oauth2 import service_account\n",
    "from flask import Flask, request, jsonify\n",
    "\n",
    "app = Flask(__name__)\n",
    "\n",
    "credentials = service_account.Credentials.from_service_account_file('api_key4.json')\n",
    "vision_client = vision.ImageAnnotatorClient(credentials=credentials)\n",
    "storage_client = storage.Client(credentials=credentials)\n",
    "\n",
    "def download_image_from_gcs(bucket_name, source_blob_name, destination_file_name):\n",
    "    bucket = storage_client.bucket(bucket_name)\n",
    "    blob = bucket.blob(source_blob_name)\n",
    "    blob.download_to_filename(destination_file_name)\n",
    "    print(f\"Blob {source_blob_name} downloaded to {destination_file_name}.\")\n",
    "\n",
    "def extract_expiry_date(image_path):\n",
    "    with open(image_path, 'rb') as image_file:\n",
    "        content = image_file.read()\n",
    "\n",
    "    image = vision.Image(content=content)\n",
    "    response = vision_client.text_detection(image=image)\n",
    "    texts = response.text_annotations\n",
    "\n",
    "    if not texts:\n",
    "        raise KeyError(\"No text found in image.\")\n",
    "\n",
    "    # 날짜 패턴 정규 표현식 (예: YYYY-MM-DD, YYYY/MM/DD, YYYY.MM.DD)\n",
    "    date_patterns = [\n",
    "        r'\\d{4}-\\d{2}-\\d{2}',  # YYYY-MM-DD\n",
    "        r'\\d{4}/\\d{2}/\\d{2}',  # YYYY/MM/DD\n",
    "        r'\\d{4}\\.\\d{2}\\.\\d{2}',  # YYYY.MM.DD\n",
    "        r'\\d{2}-\\d{2}-\\d{2}',  # YY-MM-DD\n",
    "        r'\\d{2}/\\d{2}/\\d{2}',  # YY/MM/DD\n",
    "        r'\\d{2}\\.\\d{2}\\.\\d{2}'  # YY.MM.DD\n",
    "    ]\n",
    "\n",
    "    dates = []\n",
    "    for text in texts:\n",
    "        description = text.description\n",
    "        for pattern in date_patterns:\n",
    "            matches = re.findall(pattern, description)\n",
    "            for match in matches:\n",
    "                try:\n",
    "                    # 날짜 형식을 datetime 객체로 변환\n",
    "                    if '-' in match:\n",
    "                        date_obj = datetime.strptime(match, '%Y-%m-%d')\n",
    "                    elif '/' in match:\n",
    "                        date_obj = datetime.strptime(match, '%Y/%m/%d')\n",
    "                    elif '.' in match:\n",
    "                        date_obj = datetime.strptime(match, '%Y.%m.%d')\n",
    "                    else:\n",
    "                        # YY-MM-DD, YY/MM/DD, YY.MM.DD 형식 처리\n",
    "                        if '-' in match:\n",
    "                            date_obj = datetime.strptime(match, '%y-%m-%d')\n",
    "                        elif '/' in match:\n",
    "                            date_obj = datetime.strptime(match, '%y/%m/%d')\n",
    "                        elif '.' in match:\n",
    "                            date_obj = datetime.strptime(match, '%y.%m.%d')\n",
    "                    dates.append(date_obj)\n",
    "                except ValueError as e:\n",
    "                    print(f\"Date parsing error: {e}\")\n",
    "                    continue\n",
    "\n",
    "    if dates:\n",
    "        latest_date = max(dates)\n",
    "        print(f\"Extracted dates: {dates}\")\n",
    "        print(f\"Latest date: {latest_date}\")\n",
    "        return latest_date.strftime('%y.%m.%d')\n",
    "    return None\n",
    "\n",
    "def save_output_to_gcs(bucket_name, destination_blob_name, output_data):\n",
    "    bucket = storage_client.bucket(bucket_name)\n",
    "    blob = bucket.blob(destination_blob_name)\n",
    "    output_str = str(output_data)\n",
    "    blob.upload_from_string(output_str)\n",
    "    print(f\"Output saved to gs://{bucket_name}/{destination_blob_name}\")\n",
    "\n",
    "@app.route('/process_image', methods=['POST'])\n",
    "def process_image():\n",
    "    data = request.json\n",
    "    bucket_name = data['bucket_name']\n",
    "    source_blob_name = data['source_blob_name']\n",
    "    destination_file_name = 'temp_image.jpg'\n",
    "    destination_blob_name = data['destination_blob_name']\n",
    "\n",
    "    try:\n",
    "        download_image_from_gcs(bucket_name, source_blob_name, destination_file_name)\n",
    "        expiry_date = extract_expiry_date(destination_file_name)\n",
    "        save_output_to_gcs(bucket_name, destination_blob_name, {\"expiry_date\": expiry_date})\n",
    "        return jsonify({\"status\": \"success\", \"expiry_date\": expiry_date})\n",
    "    except KeyError as e:\n",
    "        app.logger.error(f\"Key error: {e}\", exc_info=True)\n",
    "        return jsonify({\"status\": \"error\", \"message\": f\"Key error: {e}\"}), 400\n",
    "    except Exception as e:\n",
    "        app.logger.error(f\"Error: {e}\", exc_info=True)\n",
    "        return jsonify({\"status\": \"error\", \"message\": f\"Error: {e}\"}), 500\n",
    "\n",
    "if __name__ == '__main__':\n",
    "    app.run(host='0.0.0.0', port=5000)\n"
   ]
  },
  {
   "cell_type": "markdown",
   "id": "832b0ad8-f957-4f97-8097-f50a509adfb5",
   "metadata": {},
   "source": [
    "# 가장 느린 값을 출력하도록 변경 - f"
   ]
  },
  {
   "cell_type": "code",
   "execution_count": 1,
   "id": "f498e815-e442-44d4-9945-cd66f5bb47c0",
   "metadata": {},
   "outputs": [
    {
     "name": "stdout",
     "output_type": "stream",
     "text": [
      " * Serving Flask app '__main__'\n",
      " * Debug mode: off\n"
     ]
    },
    {
     "name": "stderr",
     "output_type": "stream",
     "text": [
      "WARNING: This is a development server. Do not use it in a production deployment. Use a production WSGI server instead.\n",
      " * Running on all addresses (0.0.0.0)\n",
      " * Running on http://127.0.0.1:5000\n",
      " * Running on http://192.168.219.50:5000\n",
      "Press CTRL+C to quit\n"
     ]
    },
    {
     "name": "stdout",
     "output_type": "stream",
     "text": [
      "Blob image.jpg downloaded to temp_image.jpg.\n"
     ]
    },
    {
     "name": "stderr",
     "output_type": "stream",
     "text": [
      "127.0.0.1 - - [18/Jun/2024 11:40:19] \"POST /process_image HTTP/1.1\" 200 -\n"
     ]
    },
    {
     "name": "stdout",
     "output_type": "stream",
     "text": [
      "Date parsing error: time data '20.09.10' does not match format '%Y.%m.%d'\n",
      "Date parsing error: time data '21.09.09' does not match format '%Y.%m.%d'\n",
      "Date parsing error: time data '20.09.10' does not match format '%Y.%m.%d'\n",
      "Date parsing error: time data '21.09.09' does not match format '%Y.%m.%d'\n",
      "Extracted dates: [datetime.datetime(2020, 9, 10, 0, 0), datetime.datetime(2021, 9, 9, 0, 0), datetime.datetime(2020, 9, 10, 0, 0), datetime.datetime(2021, 9, 9, 0, 0)]\n",
      "Latest date: 2021-09-09 00:00:00\n",
      "Output saved to gs://plzbe/output.txt\n"
     ]
    }
   ],
   "source": [
    "import os\n",
    "import re\n",
    "from datetime import datetime\n",
    "from google.cloud import storage, vision\n",
    "from google.oauth2 import service_account\n",
    "from flask import Flask, request, jsonify\n",
    "\n",
    "app = Flask(__name__)\n",
    "\n",
    "credentials = service_account.Credentials.from_service_account_file('api_key3.json')\n",
    "vision_client = vision.ImageAnnotatorClient(credentials=credentials)\n",
    "storage_client = storage.Client(credentials=credentials)\n",
    "\n",
    "def download_image_from_gcs(bucket_name, source_blob_name, destination_file_name):\n",
    "    bucket = storage_client.bucket(bucket_name)\n",
    "    blob = bucket.blob(source_blob_name)\n",
    "    blob.download_to_filename(destination_file_name)\n",
    "    print(f\"Blob {source_blob_name} downloaded to {destination_file_name}.\")\n",
    "\n",
    "def extract_expiry_date(image_path):\n",
    "    with open(image_path, 'rb') as image_file:\n",
    "        content = image_file.read()\n",
    "\n",
    "    image = vision.Image(content=content)\n",
    "    response = vision_client.text_detection(image=image)\n",
    "    texts = response.text_annotations\n",
    "\n",
    "    if not texts:\n",
    "        raise KeyError(\"No text found in image.\")\n",
    "\n",
    "    # 날짜 패턴 정규 표현식 (예: YYYY-MM-DD, YYYY/MM/DD, YYYY.MM.DD)\n",
    "    date_patterns = [\n",
    "        r'\\d{4}-\\d{2}-\\d{2}',  # YYYY-MM-DD\n",
    "        r'\\d{4}/\\d{2}/\\d{2}',  # YYYY/MM/DD\n",
    "        r'\\d{4}\\.\\d{2}\\.\\d{2}',  # YYYY.MM.DD\n",
    "        r'\\d{2}-\\d{2}-\\d{2}',  # YY-MM-DD\n",
    "        r'\\d{2}/\\d{2}/\\d{2}',  # YY/MM/DD\n",
    "        r'\\d{2}\\.\\d{2}\\.\\d{2}'  # YY.MM.DD\n",
    "    ]\n",
    "\n",
    "    dates = []\n",
    "    for text in texts:\n",
    "        description = text.description\n",
    "        for pattern in date_patterns:\n",
    "            matches = re.findall(pattern, description)\n",
    "            for match in matches:\n",
    "                try:\n",
    "                    # 날짜 형식을 datetime 객체로 변환\n",
    "                    if '-' in match:\n",
    "                        date_obj = datetime.strptime(match, '%Y-%m-%d')\n",
    "                    elif '/' in match:\n",
    "                        date_obj = datetime.strptime(match, '%Y/%m/%d')\n",
    "                    elif '.' in match:\n",
    "                        date_obj = datetime.strptime(match, '%Y.%m.%d')\n",
    "                    else:\n",
    "                        # YY-MM-DD, YY/MM/DD, YY.MM.DD 형식 처리\n",
    "                        if '-' in match:\n",
    "                            date_obj = datetime.strptime(match, '%y-%m-%d')\n",
    "                        elif '/' in match:\n",
    "                            date_obj = datetime.strptime(match, '%y/%m/%d')\n",
    "                        elif '.' in match:\n",
    "                            date_obj = datetime.strptime(match, '%y.%m.%d')\n",
    "                    dates.append(date_obj)\n",
    "                except ValueError as e:\n",
    "                    print(f\"Date parsing error: {e}\")\n",
    "                    continue\n",
    "\n",
    "    if dates:\n",
    "        latest_date = max(dates)\n",
    "        print(f\"Extracted dates: {dates}\")\n",
    "        print(f\"Latest date: {latest_date}\")\n",
    "        return latest_date.strftime('%y.%m.%d')\n",
    "    return None\n",
    "\n",
    "def save_output_to_gcs(bucket_name, destination_blob_name, output_data):\n",
    "    bucket = storage_client.bucket(bucket_name)\n",
    "    blob = bucket.blob(destination_blob_name)\n",
    "    output_str = str(output_data)\n",
    "    blob.upload_from_string(output_str)\n",
    "    print(f\"Output saved to gs://{bucket_name}/{destination_blob_name}\")\n",
    "\n",
    "@app.route('/process_image', methods=['POST'])\n",
    "def process_image():\n",
    "    data = request.json\n",
    "    bucket_name = data['bucket_name']\n",
    "    source_blob_name = data['source_blob_name']\n",
    "    destination_file_name = 'temp_image.jpg'\n",
    "    destination_blob_name = data['destination_blob_name']\n",
    "\n",
    "    try:\n",
    "        download_image_from_gcs(bucket_name, source_blob_name, destination_file_name)\n",
    "        expiry_date = extract_expiry_date(destination_file_name)\n",
    "        save_output_to_gcs(bucket_name, destination_blob_name, {\"expiry_date\": expiry_date})\n",
    "        return jsonify({\"status\": \"success\", \"expiry_date\": expiry_date})\n",
    "    except KeyError as e:\n",
    "        app.logger.error(f\"Key error: {e}\", exc_info=True)\n",
    "        return jsonify({\"status\": \"error\", \"message\": f\"Key error: {e}\"}), 400\n",
    "    except Exception as e:\n",
    "        app.logger.error(f\"Error: {e}\", exc_info=True)\n",
    "        return jsonify({\"status\": \"error\", \"message\": f\"Error: {e}\"}), 500\n",
    "\n",
    "if __name__ == '__main__':\n",
    "    app.run(host='0.0.0.0', port=5000)\n"
   ]
  },
  {
   "cell_type": "markdown",
   "id": "44885114-849b-4f76-8272-46fe189d467b",
   "metadata": {},
   "source": [
    "# 비동기방식으로 값을 웹으로 전달 - 최종(완성)"
   ]
  },
  {
   "cell_type": "code",
   "execution_count": 1,
   "id": "73cb9852-2805-4387-8ae1-2e171aada492",
   "metadata": {},
   "outputs": [
    {
     "name": "stdout",
     "output_type": "stream",
     "text": [
      " * Serving Flask app '__main__'\n",
      " * Debug mode: off\n"
     ]
    },
    {
     "name": "stderr",
     "output_type": "stream",
     "text": [
      "WARNING: This is a development server. Do not use it in a production deployment. Use a production WSGI server instead.\n",
      " * Running on all addresses (0.0.0.0)\n",
      " * Running on http://127.0.0.1:5000\n",
      " * Running on http://192.168.219.50:5000\n",
      "Press CTRL+C to quit\n"
     ]
    },
    {
     "name": "stdout",
     "output_type": "stream",
     "text": [
      "Blob image.jpg downloaded to temp_image.jpg.\n"
     ]
    },
    {
     "name": "stderr",
     "output_type": "stream",
     "text": [
      "127.0.0.1 - - [21/Jun/2024 14:54:44] \"POST /process_image HTTP/1.1\" 200 -\n"
     ]
    },
    {
     "name": "stdout",
     "output_type": "stream",
     "text": [
      "Extracted dates: [datetime.datetime(2015, 11, 9, 0, 0), datetime.datetime(2015, 11, 9, 0, 0)]\n",
      "Latest date: 2015-11-09 00:00:00\n",
      "Output saved to gs://plzbe/output.txt\n",
      "Blob image.jpg downloaded to temp_image.jpg.\n"
     ]
    },
    {
     "name": "stderr",
     "output_type": "stream",
     "text": [
      "127.0.0.1 - - [21/Jun/2024 14:54:52] \"POST /process_image HTTP/1.1\" 200 -\n"
     ]
    },
    {
     "name": "stdout",
     "output_type": "stream",
     "text": [
      "Date parsing error: time data '03.02.00' does not match format '%y.%m.%d'\n",
      "Date parsing error: time data '03.13.00' does not match format '%y.%m.%d'\n",
      "Date parsing error: time data '03.02.00' does not match format '%y.%m.%d'\n",
      "Date parsing error: time data '03.13.00' does not match format '%y.%m.%d'\n",
      "Output saved to gs://plzbe/output.txt\n",
      "Blob image.jpg downloaded to temp_image.jpg.\n"
     ]
    },
    {
     "name": "stderr",
     "output_type": "stream",
     "text": [
      "127.0.0.1 - - [21/Jun/2024 14:55:33] \"POST /process_image HTTP/1.1\" 200 -\n"
     ]
    },
    {
     "name": "stdout",
     "output_type": "stream",
     "text": [
      "Extracted dates: [datetime.datetime(2020, 9, 10, 0, 0), datetime.datetime(2021, 9, 9, 0, 0), datetime.datetime(2020, 9, 10, 0, 0), datetime.datetime(2021, 9, 9, 0, 0), datetime.datetime(2020, 9, 10, 0, 0), datetime.datetime(2020, 9, 10, 0, 0), datetime.datetime(2021, 9, 9, 0, 0), datetime.datetime(2021, 9, 9, 0, 0)]\n",
      "Latest date: 2021-09-09 00:00:00\n",
      "Output saved to gs://plzbe/output.txt\n",
      "Blob image.jpg downloaded to temp_image.jpg.\n"
     ]
    },
    {
     "name": "stderr",
     "output_type": "stream",
     "text": [
      "127.0.0.1 - - [21/Jun/2024 14:55:36] \"POST /process_image HTTP/1.1\" 200 -\n"
     ]
    },
    {
     "name": "stdout",
     "output_type": "stream",
     "text": [
      "Date parsing error: time data '03.02.00' does not match format '%y.%m.%d'\n",
      "Date parsing error: time data '03.13.00' does not match format '%y.%m.%d'\n",
      "Date parsing error: time data '03.02.00' does not match format '%y.%m.%d'\n",
      "Date parsing error: time data '03.13.00' does not match format '%y.%m.%d'\n",
      "Output saved to gs://plzbe/output.txt\n"
     ]
    }
   ],
   "source": [
    "from flask import Flask, request, jsonify\n",
    "from google.cloud import storage, vision\n",
    "from google.oauth2 import service_account\n",
    "import os\n",
    "import re\n",
    "from datetime import datetime\n",
    "\n",
    "app = Flask(__name__)\n",
    "\n",
    "credentials = service_account.Credentials.from_service_account_file('api_key4.json')\n",
    "vision_client = vision.ImageAnnotatorClient(credentials=credentials)\n",
    "storage_client = storage.Client(credentials=credentials)\n",
    "\n",
    "def download_image_from_gcs(bucket_name, source_blob_name, destination_file_name):\n",
    "    bucket = storage_client.bucket(bucket_name)\n",
    "    blob = bucket.blob(source_blob_name)\n",
    "    blob.download_to_filename(destination_file_name)\n",
    "    print(f\"Blob {source_blob_name} downloaded to {destination_file_name}.\")\n",
    "\n",
    "def extract_expiry_date(image_path):\n",
    "    with open(image_path, 'rb') as image_file:\n",
    "        content = image_file.read()\n",
    "\n",
    "    image = vision.Image(content=content)\n",
    "    response = vision_client.text_detection(image=image)\n",
    "    texts = response.text_annotations\n",
    "\n",
    "    if not texts:\n",
    "        raise KeyError(\"No text found in image.\")\n",
    "\n",
    "    # 날짜 패턴 정규 표현식 (예: YYYY-MM-DD, YYYY/MM/DD, YYYY.MM.DD)\n",
    "    date_patterns = [\n",
    "        r'\\d{4}-\\d{2}-\\d{2}',  # YYYY-MM-DD\n",
    "        r'\\d{4}/\\d{2}/\\d{2}',  # YYYY/MM/DD\n",
    "        r'\\d{4}\\.\\d{2}\\.\\d{2}',  # YYYY.MM.DD\n",
    "        r'\\d{2}-\\d{2}-\\d{2}',  # YY-MM-DD\n",
    "        r'\\d{2}/\\d{2}/\\d{2}',  # YY/MM/DD\n",
    "        r'\\d{2}\\.\\d{2}\\.\\d{2}'  # YY.MM.DD\n",
    "    ]\n",
    "\n",
    "    dates = []\n",
    "    for text in texts:\n",
    "        description = text.description\n",
    "        for pattern in date_patterns:\n",
    "            matches = re.findall(pattern, description)\n",
    "            for match in matches:\n",
    "                try:\n",
    "                    # 날짜 형식을 datetime 객체로 변환\n",
    "                    if '-' in match:\n",
    "                        if len(match.split('-')[0]) == 4:  # YYYY-MM-DD\n",
    "                            date_obj = datetime.strptime(match, '%Y-%m-%d')\n",
    "                        else:  # YY-MM-DD\n",
    "                            date_obj = datetime.strptime(match, '%y-%m-%d')\n",
    "                            if date_obj.year < 100:\n",
    "                                date_obj = date_obj.replace(year=date_obj.year + 2000)\n",
    "                    elif '/' in match:\n",
    "                        if len(match.split('/')[0]) == 4:  # YYYY/MM/DD\n",
    "                            date_obj = datetime.strptime(match, '%Y/%m/%d')\n",
    "                        else:  # YY/MM/DD\n",
    "                            date_obj = datetime.strptime(match, '%y/%m/%d')\n",
    "                            if date_obj.year < 100:\n",
    "                                date_obj = date_obj.replace(year=date_obj.year + 2000)\n",
    "                    elif '.' in match:\n",
    "                        if len(match.split('.')[0]) == 4:  # YYYY.MM.DD\n",
    "                            date_obj = datetime.strptime(match, '%Y.%m.%d')\n",
    "                        else:  # YY.MM.DD\n",
    "                            date_obj = datetime.strptime(match, '%y.%m.%d')\n",
    "                            if date_obj.year < 100:\n",
    "                                date_obj = date_obj.replace(year=date_obj.year + 2000)\n",
    "                    dates.append(date_obj)\n",
    "                except ValueError as e:\n",
    "                    print(f\"Date parsing error: {e}\")\n",
    "                    continue\n",
    "\n",
    "    if dates:\n",
    "        latest_date = max(dates)\n",
    "        print(f\"Extracted dates: {dates}\")\n",
    "        print(f\"Latest date: {latest_date}\")\n",
    "        return latest_date.strftime('%Y-%m-%d')\n",
    "    return None\n",
    "\n",
    "def save_output_to_gcs(bucket_name, destination_blob_name, output_data):\n",
    "    bucket = storage_client.bucket(bucket_name)\n",
    "    blob = bucket.blob(destination_blob_name)\n",
    "    output_str = str(output_data)\n",
    "    blob.upload_from_string(output_str)\n",
    "    print(f\"Output saved to gs://{bucket_name}/{destination_blob_name}\")\n",
    "\n",
    "@app.route('/process_image', methods=['POST'])\n",
    "def process_image():\n",
    "    data = request.json\n",
    "    bucket_name = data['bucket_name']\n",
    "    source_blob_name = data['source_blob_name']\n",
    "    destination_file_name = 'temp_image.jpg'\n",
    "    destination_blob_name = data['destination_blob_name']\n",
    "\n",
    "    try:\n",
    "        download_image_from_gcs(bucket_name, source_blob_name, destination_file_name)\n",
    "        expiry_date = extract_expiry_date(destination_file_name)\n",
    "        save_output_to_gcs(bucket_name, destination_blob_name, {\"expiry_date\": expiry_date})\n",
    "        return jsonify({\"status\": \"success\", \"expiry_date\": expiry_date})\n",
    "    except KeyError as e:\n",
    "        app.logger.error(f\"Key error: {e}\", exc_info=True)\n",
    "        return jsonify({\"status\": \"error\", \"message\": f\"Key error: {e}\"}), 400\n",
    "    except Exception as e:\n",
    "        app.logger.error(f\"Error: {e}\", exc_info=True)\n",
    "        return jsonify({\"status\": \"error\", \"message\": f\"Error: {e}\"}), 500\n",
    "\n",
    "if __name__ == '__main__':\n",
    "    app.run(host='0.0.0.0', port=5000)\n"
   ]
  },
  {
   "cell_type": "markdown",
   "id": "ad3ad862-eb35-43c9-bd97-e2bb71dfae26",
   "metadata": {},
   "source": [
    "# MM-DD값 추가 및 예외사항 (우유 유통기한 기준) 수정"
   ]
  },
  {
   "cell_type": "code",
   "execution_count": null,
   "id": "513a088c-1ccc-44d1-adc0-477db2cfa0c1",
   "metadata": {},
   "outputs": [
    {
     "name": "stdout",
     "output_type": "stream",
     "text": [
      " * Serving Flask app '__main__'\n",
      " * Debug mode: off\n"
     ]
    },
    {
     "name": "stderr",
     "output_type": "stream",
     "text": [
      "WARNING: This is a development server. Do not use it in a production deployment. Use a production WSGI server instead.\n",
      " * Running on all addresses (0.0.0.0)\n",
      " * Running on http://127.0.0.1:5000\n",
      " * Running on http://192.168.219.50:5000\n",
      "Press CTRL+C to quit\n"
     ]
    },
    {
     "name": "stdout",
     "output_type": "stream",
     "text": [
      "Blob image.jpg downloaded to temp_image.jpg.\n"
     ]
    },
    {
     "name": "stderr",
     "output_type": "stream",
     "text": [
      "127.0.0.1 - - [24/Jun/2024 12:15:45] \"POST /process_image HTTP/1.1\" 200 -\n"
     ]
    },
    {
     "name": "stdout",
     "output_type": "stream",
     "text": [
      "Date parsing error: time data '20.09' does not match format '%m.%d'\n",
      "Date parsing error: time data '21.09' does not match format '%m.%d'\n",
      "Date parsing error: time data '20.09' does not match format '%m.%d'\n",
      "Date parsing error: time data '21.09' does not match format '%m.%d'\n",
      "Extracted dates: [datetime.datetime(2020, 9, 10, 0, 0), datetime.datetime(2021, 9, 9, 0, 0), datetime.datetime(2020, 9, 10, 0, 0), datetime.datetime(2021, 9, 9, 0, 0), datetime.datetime(2020, 9, 10, 0, 0), datetime.datetime(2020, 9, 10, 0, 0), datetime.datetime(2021, 9, 9, 0, 0), datetime.datetime(2021, 9, 9, 0, 0)]\n",
      "Latest date: 2021-09-09 00:00:00\n",
      "Output saved to gs://plzbe/output.txt\n",
      "Blob image.jpg downloaded to temp_image.jpg.\n"
     ]
    },
    {
     "name": "stderr",
     "output_type": "stream",
     "text": [
      "127.0.0.1 - - [24/Jun/2024 12:23:36] \"POST /process_image HTTP/1.1\" 200 -\n"
     ]
    },
    {
     "name": "stdout",
     "output_type": "stream",
     "text": [
      "Extracted dates: [datetime.datetime(2025, 1, 10, 0, 0), datetime.datetime(2025, 1, 10, 0, 0), datetime.datetime(2025, 1, 10, 0, 0), datetime.datetime(2025, 1, 10, 0, 0)]\n",
      "Latest date: 2025-01-10 00:00:00\n",
      "Output saved to gs://plzbe/output.txt\n",
      "Blob image.jpg downloaded to temp_image.jpg.\n"
     ]
    },
    {
     "name": "stderr",
     "output_type": "stream",
     "text": [
      "127.0.0.1 - - [24/Jun/2024 12:25:06] \"POST /process_image HTTP/1.1\" 200 -\n"
     ]
    },
    {
     "name": "stdout",
     "output_type": "stream",
     "text": [
      "Extracted dates: [datetime.datetime(2025, 6, 6, 0, 0), datetime.datetime(2025, 1, 6, 0, 0), datetime.datetime(2025, 1, 6, 0, 0), datetime.datetime(2025, 1, 6, 0, 0), datetime.datetime(2025, 6, 6, 0, 0), datetime.datetime(2025, 1, 6, 0, 0)]\n",
      "Latest date: 2025-06-06 00:00:00\n",
      "Output saved to gs://plzbe/output.txt\n",
      "Blob image.jpg downloaded to temp_image.jpg.\n"
     ]
    },
    {
     "name": "stderr",
     "output_type": "stream",
     "text": [
      "127.0.0.1 - - [24/Jun/2024 12:38:48] \"POST /process_image HTTP/1.1\" 200 -\n"
     ]
    },
    {
     "name": "stdout",
     "output_type": "stream",
     "text": [
      "Date parsing error: time data '24.05' does not match format '%m.%d'\n",
      "Date parsing error: time data '24.05' does not match format '%m.%d'\n",
      "Extracted dates: [datetime.datetime(2024, 5, 24, 0, 0), datetime.datetime(2024, 5, 24, 0, 0), datetime.datetime(2024, 5, 24, 0, 0), datetime.datetime(2024, 5, 24, 0, 0)]\n",
      "Latest date: 2024-05-24 00:00:00\n",
      "Output saved to gs://plzbe/output.txt\n",
      "Blob image.jpg downloaded to temp_image.jpg.\n"
     ]
    },
    {
     "name": "stderr",
     "output_type": "stream",
     "text": [
      "127.0.0.1 - - [24/Jun/2024 12:44:36] \"POST /process_image HTTP/1.1\" 200 -\n"
     ]
    },
    {
     "name": "stdout",
     "output_type": "stream",
     "text": [
      "Date parsing error: time data '21.03' does not match format '%m.%d'\n",
      "Date parsing error: time data '21.03' does not match format '%m.%d'\n",
      "Extracted dates: [datetime.datetime(2021, 3, 29, 0, 0), datetime.datetime(2021, 3, 29, 0, 0), datetime.datetime(2021, 3, 29, 0, 0), datetime.datetime(2021, 3, 29, 0, 0)]\n",
      "Latest date: 2021-03-29 00:00:00\n",
      "Output saved to gs://plzbe/output.txt\n",
      "Blob image.jpg downloaded to temp_image.jpg.\n"
     ]
    },
    {
     "name": "stderr",
     "output_type": "stream",
     "text": [
      "127.0.0.1 - - [24/Jun/2024 12:49:14] \"POST /process_image HTTP/1.1\" 200 -\n"
     ]
    },
    {
     "name": "stdout",
     "output_type": "stream",
     "text": [
      "Date parsing error: time data '24.05' does not match format '%m.%d'\n",
      "Date parsing error: time data '24.05' does not match format '%m.%d'\n",
      "Extracted dates: [datetime.datetime(2024, 5, 13, 0, 0), datetime.datetime(2024, 5, 13, 0, 0)]\n",
      "Latest date: 2024-05-13 00:00:00\n",
      "Output saved to gs://plzbe/output.txt\n",
      "Blob image.jpg downloaded to temp_image.jpg.\n"
     ]
    },
    {
     "name": "stderr",
     "output_type": "stream",
     "text": [
      "127.0.0.1 - - [24/Jun/2024 14:07:19] \"POST /process_image HTTP/1.1\" 200 -\n"
     ]
    },
    {
     "name": "stdout",
     "output_type": "stream",
     "text": [
      "Date parsing error: time data '03.02.00' does not match format '%y.%m.%d'\n",
      "Date parsing error: time data '03.13.00' does not match format '%y.%m.%d'\n",
      "Date parsing error: time data '03.02.00' does not match format '%y.%m.%d'\n",
      "Date parsing error: time data '03.13.00' does not match format '%y.%m.%d'\n",
      "Extracted dates: [datetime.datetime(2025, 3, 2, 0, 0), datetime.datetime(2025, 3, 13, 0, 0), datetime.datetime(2025, 3, 2, 0, 0), datetime.datetime(2025, 3, 13, 0, 0)]\n",
      "Latest date: 2025-03-13 00:00:00\n",
      "Output saved to gs://plzbe/output.txt\n",
      "Blob image.jpg downloaded to temp_image.jpg.\n"
     ]
    },
    {
     "name": "stderr",
     "output_type": "stream",
     "text": [
      "127.0.0.1 - - [24/Jun/2024 14:30:22] \"POST /process_image HTTP/1.1\" 200 -\n"
     ]
    },
    {
     "name": "stdout",
     "output_type": "stream",
     "text": [
      "Date parsing error: time data '20.09' does not match format '%m.%d'\n",
      "Date parsing error: time data '21.09' does not match format '%m.%d'\n",
      "Date parsing error: time data '20.09' does not match format '%m.%d'\n",
      "Date parsing error: time data '21.09' does not match format '%m.%d'\n",
      "Extracted dates: [datetime.datetime(2020, 9, 10, 0, 0), datetime.datetime(2021, 9, 9, 0, 0), datetime.datetime(2020, 9, 10, 0, 0), datetime.datetime(2021, 9, 9, 0, 0), datetime.datetime(2020, 9, 10, 0, 0), datetime.datetime(2020, 9, 10, 0, 0), datetime.datetime(2021, 9, 9, 0, 0), datetime.datetime(2021, 9, 9, 0, 0)]\n",
      "Latest date: 2021-09-09 00:00:00\n",
      "Output saved to gs://plzbe/output.txt\n",
      "Blob image.jpg downloaded to temp_image.jpg.\n",
      "Date parsing error: time data '21.03' does not match format '%m.%d'\n",
      "Date parsing error: time data '21.03' does not match format '%m.%d'\n",
      "Extracted dates: [datetime.datetime(2021, 3, 29, 0, 0), datetime.datetime(2021, 3, 29, 0, 0), datetime.datetime(2021, 3, 29, 0, 0), datetime.datetime(2021, 3, 29, 0, 0)]\n",
      "Latest date: 2021-03-29 00:00:00\n"
     ]
    },
    {
     "name": "stderr",
     "output_type": "stream",
     "text": [
      "127.0.0.1 - - [24/Jun/2024 14:30:51] \"POST /process_image HTTP/1.1\" 200 -\n"
     ]
    },
    {
     "name": "stdout",
     "output_type": "stream",
     "text": [
      "Output saved to gs://plzbe/output.txt\n",
      "Blob image.jpg downloaded to temp_image.jpg.\n",
      "Date parsing error: time data '21.03' does not match format '%m.%d'\n",
      "Date parsing error: time data '21.03' does not match format '%m.%d'\n",
      "Extracted dates: [datetime.datetime(2021, 3, 29, 0, 0), datetime.datetime(2021, 3, 29, 0, 0), datetime.datetime(2021, 3, 29, 0, 0), datetime.datetime(2021, 3, 29, 0, 0)]\n",
      "Latest date: 2021-03-29 00:00:00\n"
     ]
    },
    {
     "name": "stderr",
     "output_type": "stream",
     "text": [
      "127.0.0.1 - - [24/Jun/2024 14:32:51] \"POST /process_image HTTP/1.1\" 200 -\n"
     ]
    },
    {
     "name": "stdout",
     "output_type": "stream",
     "text": [
      "Output saved to gs://plzbe/output.txt\n",
      "Blob image.jpg downloaded to temp_image.jpg.\n"
     ]
    },
    {
     "name": "stderr",
     "output_type": "stream",
     "text": [
      "127.0.0.1 - - [24/Jun/2024 14:34:31] \"POST /process_image HTTP/1.1\" 200 -\n"
     ]
    },
    {
     "name": "stdout",
     "output_type": "stream",
     "text": [
      "Date parsing error: time data '15.11' does not match format '%m.%d'\n",
      "Date parsing error: time data '15.11' does not match format '%m.%d'\n",
      "Extracted dates: [datetime.datetime(2015, 11, 9, 0, 0), datetime.datetime(2015, 11, 9, 0, 0)]\n",
      "Latest date: 2015-11-09 00:00:00\n",
      "Output saved to gs://plzbe/output.txt\n"
     ]
    },
    {
     "name": "stderr",
     "output_type": "stream",
     "text": [
      "127.0.0.1 - - [24/Jun/2024 14:34:38] \"POST /process_image HTTP/1.1\" 200 -\n"
     ]
    },
    {
     "name": "stdout",
     "output_type": "stream",
     "text": [
      "Blob image.jpg downloaded to temp_image.jpg.\n",
      "Date parsing error: time data '24.05' does not match format '%m.%d'\n",
      "Date parsing error: time data '24.05' does not match format '%m.%d'\n",
      "Extracted dates: [datetime.datetime(2024, 5, 24, 0, 0), datetime.datetime(2024, 5, 24, 0, 0), datetime.datetime(2024, 5, 24, 0, 0), datetime.datetime(2024, 5, 24, 0, 0)]\n",
      "Latest date: 2024-05-24 00:00:00\n",
      "Output saved to gs://plzbe/output.txt\n",
      "Blob image.jpg downloaded to temp_image.jpg.\n"
     ]
    },
    {
     "name": "stderr",
     "output_type": "stream",
     "text": [
      "127.0.0.1 - - [24/Jun/2024 14:38:33] \"POST /process_image HTTP/1.1\" 200 -\n"
     ]
    },
    {
     "name": "stdout",
     "output_type": "stream",
     "text": [
      "Date parsing error: time data '20.09' does not match format '%m.%d'\n",
      "Date parsing error: time data '21.09' does not match format '%m.%d'\n",
      "Date parsing error: time data '20.09' does not match format '%m.%d'\n",
      "Date parsing error: time data '21.09' does not match format '%m.%d'\n",
      "Extracted dates: [datetime.datetime(2020, 9, 10, 0, 0), datetime.datetime(2021, 9, 9, 0, 0), datetime.datetime(2020, 9, 10, 0, 0), datetime.datetime(2021, 9, 9, 0, 0), datetime.datetime(2020, 9, 10, 0, 0), datetime.datetime(2020, 9, 10, 0, 0), datetime.datetime(2021, 9, 9, 0, 0), datetime.datetime(2021, 9, 9, 0, 0)]\n",
      "Latest date: 2021-09-09 00:00:00\n",
      "Output saved to gs://plzbe/output.txt\n",
      "Blob image.jpg downloaded to temp_image.jpg.\n"
     ]
    },
    {
     "name": "stderr",
     "output_type": "stream",
     "text": [
      "127.0.0.1 - - [24/Jun/2024 14:40:15] \"POST /process_image HTTP/1.1\" 200 -\n"
     ]
    },
    {
     "name": "stdout",
     "output_type": "stream",
     "text": [
      "Date parsing error: time data '20.09' does not match format '%m.%d'\n",
      "Date parsing error: time data '21.09' does not match format '%m.%d'\n",
      "Date parsing error: time data '20.09' does not match format '%m.%d'\n",
      "Date parsing error: time data '21.09' does not match format '%m.%d'\n",
      "Extracted dates: [datetime.datetime(2020, 9, 10, 0, 0), datetime.datetime(2021, 9, 9, 0, 0), datetime.datetime(2020, 9, 10, 0, 0), datetime.datetime(2021, 9, 9, 0, 0), datetime.datetime(2020, 9, 10, 0, 0), datetime.datetime(2020, 9, 10, 0, 0), datetime.datetime(2021, 9, 9, 0, 0), datetime.datetime(2021, 9, 9, 0, 0)]\n",
      "Latest date: 2021-09-09 00:00:00\n",
      "Output saved to gs://plzbe/output.txt\n"
     ]
    },
    {
     "name": "stderr",
     "output_type": "stream",
     "text": [
      "[2024-06-24 14:40:27,326] ERROR in 1017123840: Key error: 'No text found in image.'\n",
      "Traceback (most recent call last):\n",
      "  File \"C:\\Users\\smhrd\\AppData\\Local\\Temp\\ipykernel_12912\\1017123840.py\", line 139, in process_image\n",
      "    expiry_date = extract_expiry_date(destination_file_name)\n",
      "                  ^^^^^^^^^^^^^^^^^^^^^^^^^^^^^^^^^^^^^^^^^^\n",
      "  File \"C:\\Users\\smhrd\\AppData\\Local\\Temp\\ipykernel_12912\\1017123840.py\", line 29, in extract_expiry_date\n",
      "    raise KeyError(\"No text found in image.\")\n",
      "KeyError: 'No text found in image.'\n",
      "127.0.0.1 - - [24/Jun/2024 14:40:27] \"POST /process_image HTTP/1.1\" 400 -\n"
     ]
    },
    {
     "name": "stdout",
     "output_type": "stream",
     "text": [
      "Blob image.jpg downloaded to temp_image.jpg.\n",
      "Blob image.jpg downloaded to temp_image.jpg.\n"
     ]
    },
    {
     "name": "stderr",
     "output_type": "stream",
     "text": [
      "127.0.0.1 - - [24/Jun/2024 14:40:40] \"POST /process_image HTTP/1.1\" 200 -\n"
     ]
    },
    {
     "name": "stdout",
     "output_type": "stream",
     "text": [
      "Date parsing error: time data '15.11' does not match format '%m.%d'\n",
      "Date parsing error: time data '15.11' does not match format '%m.%d'\n",
      "Extracted dates: [datetime.datetime(2015, 11, 9, 0, 0), datetime.datetime(2015, 11, 9, 0, 0)]\n",
      "Latest date: 2015-11-09 00:00:00\n",
      "Output saved to gs://plzbe/output.txt\n",
      "Blob image.jpg downloaded to temp_image.jpg.\n"
     ]
    },
    {
     "name": "stderr",
     "output_type": "stream",
     "text": [
      "127.0.0.1 - - [24/Jun/2024 14:42:15] \"POST /process_image HTTP/1.1\" 200 -\n"
     ]
    },
    {
     "name": "stdout",
     "output_type": "stream",
     "text": [
      "Date parsing error: time data '21.03' does not match format '%m.%d'\n",
      "Date parsing error: time data '21.03' does not match format '%m.%d'\n",
      "Extracted dates: [datetime.datetime(2021, 3, 29, 0, 0), datetime.datetime(2021, 3, 29, 0, 0), datetime.datetime(2021, 3, 29, 0, 0), datetime.datetime(2021, 3, 29, 0, 0)]\n",
      "Latest date: 2021-03-29 00:00:00\n",
      "Output saved to gs://plzbe/output.txt\n",
      "Blob image.jpg downloaded to temp_image.jpg.\n"
     ]
    },
    {
     "name": "stderr",
     "output_type": "stream",
     "text": [
      "127.0.0.1 - - [24/Jun/2024 14:43:18] \"POST /process_image HTTP/1.1\" 200 -\n"
     ]
    },
    {
     "name": "stdout",
     "output_type": "stream",
     "text": [
      "Date parsing error: time data '15.11' does not match format '%m.%d'\n",
      "Date parsing error: time data '15.11' does not match format '%m.%d'\n",
      "Extracted dates: [datetime.datetime(2015, 11, 9, 0, 0), datetime.datetime(2015, 11, 9, 0, 0)]\n",
      "Latest date: 2015-11-09 00:00:00\n",
      "Output saved to gs://plzbe/output.txt\n",
      "Blob image.jpg downloaded to temp_image.jpg.\n"
     ]
    },
    {
     "name": "stderr",
     "output_type": "stream",
     "text": [
      "127.0.0.1 - - [24/Jun/2024 14:46:57] \"POST /process_image HTTP/1.1\" 200 -\n"
     ]
    },
    {
     "name": "stdout",
     "output_type": "stream",
     "text": [
      "Date parsing error: time data '20.09' does not match format '%m.%d'\n",
      "Date parsing error: time data '21.09' does not match format '%m.%d'\n",
      "Date parsing error: time data '20.09' does not match format '%m.%d'\n",
      "Date parsing error: time data '21.09' does not match format '%m.%d'\n",
      "Extracted dates: [datetime.datetime(2020, 9, 10, 0, 0), datetime.datetime(2021, 9, 9, 0, 0), datetime.datetime(2020, 9, 10, 0, 0), datetime.datetime(2021, 9, 9, 0, 0), datetime.datetime(2020, 9, 10, 0, 0), datetime.datetime(2020, 9, 10, 0, 0), datetime.datetime(2021, 9, 9, 0, 0), datetime.datetime(2021, 9, 9, 0, 0)]\n",
      "Latest date: 2021-09-09 00:00:00\n",
      "Output saved to gs://plzbe/output.txt\n",
      "Blob image.jpg downloaded to temp_image.jpg.\n"
     ]
    },
    {
     "name": "stderr",
     "output_type": "stream",
     "text": [
      "127.0.0.1 - - [24/Jun/2024 14:47:01] \"POST /process_image HTTP/1.1\" 200 -\n"
     ]
    },
    {
     "name": "stdout",
     "output_type": "stream",
     "text": [
      "Date parsing error: time data '24.05' does not match format '%m.%d'\n",
      "Date parsing error: time data '24.05' does not match format '%m.%d'\n",
      "Extracted dates: [datetime.datetime(2024, 5, 13, 0, 0), datetime.datetime(2024, 5, 13, 0, 0)]\n",
      "Latest date: 2024-05-13 00:00:00\n",
      "Output saved to gs://plzbe/output.txt\n",
      "Blob image.jpg downloaded to temp_image.jpg.\n"
     ]
    },
    {
     "name": "stderr",
     "output_type": "stream",
     "text": [
      "127.0.0.1 - - [24/Jun/2024 14:47:06] \"POST /process_image HTTP/1.1\" 200 -\n"
     ]
    },
    {
     "name": "stdout",
     "output_type": "stream",
     "text": [
      "Date parsing error: time data '15.11' does not match format '%m.%d'\n",
      "Date parsing error: time data '15.11' does not match format '%m.%d'\n",
      "Extracted dates: [datetime.datetime(2015, 11, 9, 0, 0), datetime.datetime(2015, 11, 9, 0, 0)]\n",
      "Latest date: 2015-11-09 00:00:00\n",
      "Output saved to gs://plzbe/output.txt\n",
      "Blob image.jpg downloaded to temp_image.jpg.\n"
     ]
    },
    {
     "name": "stderr",
     "output_type": "stream",
     "text": [
      "127.0.0.1 - - [24/Jun/2024 14:47:10] \"POST /process_image HTTP/1.1\" 200 -\n"
     ]
    },
    {
     "name": "stdout",
     "output_type": "stream",
     "text": [
      "Date parsing error: time data '21.03' does not match format '%m.%d'\n",
      "Date parsing error: time data '21.03' does not match format '%m.%d'\n",
      "Extracted dates: [datetime.datetime(2021, 3, 29, 0, 0), datetime.datetime(2021, 3, 29, 0, 0), datetime.datetime(2021, 3, 29, 0, 0), datetime.datetime(2021, 3, 29, 0, 0)]\n",
      "Latest date: 2021-03-29 00:00:00\n",
      "Output saved to gs://plzbe/output.txt\n",
      "Blob image.jpg downloaded to temp_image.jpg.\n"
     ]
    },
    {
     "name": "stderr",
     "output_type": "stream",
     "text": [
      "127.0.0.1 - - [24/Jun/2024 14:47:12] \"POST /process_image HTTP/1.1\" 200 -\n"
     ]
    },
    {
     "name": "stdout",
     "output_type": "stream",
     "text": [
      "Date parsing error: time data '25-01' does not match format '%m-%d'\n",
      "Date parsing error: time data '25-01' does not match format '%m-%d'\n",
      "Extracted dates: [datetime.datetime(2025, 1, 10, 0, 0), datetime.datetime(2025, 1, 10, 0, 0), datetime.datetime(2025, 1, 10, 0, 0), datetime.datetime(2025, 1, 10, 0, 0)]\n",
      "Latest date: 2025-01-10 00:00:00\n",
      "Output saved to gs://plzbe/output.txt\n",
      "Blob image.jpg downloaded to temp_image.jpg.\n"
     ]
    },
    {
     "name": "stderr",
     "output_type": "stream",
     "text": [
      "127.0.0.1 - - [24/Jun/2024 14:47:14] \"POST /process_image HTTP/1.1\" 200 -\n"
     ]
    },
    {
     "name": "stdout",
     "output_type": "stream",
     "text": [
      "Extracted dates: [datetime.datetime(2025, 6, 6, 0, 0), datetime.datetime(2025, 1, 6, 0, 0), datetime.datetime(2025, 1, 6, 0, 0), datetime.datetime(2025, 1, 6, 0, 0), datetime.datetime(2025, 6, 6, 0, 0), datetime.datetime(2025, 1, 6, 0, 0)]\n",
      "Latest date: 2025-06-06 00:00:00\n",
      "Output saved to gs://plzbe/output.txt\n"
     ]
    }
   ],
   "source": [
    "from flask import Flask, request, jsonify\n",
    "from google.cloud import storage, vision\n",
    "from google.oauth2 import service_account\n",
    "import os\n",
    "import re\n",
    "from datetime import datetime\n",
    "\n",
    "app = Flask(__name__)\n",
    "\n",
    "credentials = service_account.Credentials.from_service_account_file('api_key4.json')\n",
    "vision_client = vision.ImageAnnotatorClient(credentials=credentials)\n",
    "storage_client = storage.Client(credentials=credentials)\n",
    "\n",
    "def download_image_from_gcs(bucket_name, source_blob_name, destination_file_name):\n",
    "    bucket = storage_client.bucket(bucket_name)\n",
    "    blob = bucket.blob(source_blob_name)\n",
    "    blob.download_to_filename(destination_file_name)\n",
    "    print(f\"Blob {source_blob_name} downloaded to {destination_file_name}.\")\n",
    "\n",
    "def extract_expiry_date(image_path):\n",
    "    with open(image_path, 'rb') as image_file:\n",
    "        content = image_file.read()\n",
    "\n",
    "    image = vision.Image(content=content)\n",
    "    response = vision_client.text_detection(image=image)\n",
    "    texts = response.text_annotations\n",
    "\n",
    "    if not texts:\n",
    "        raise KeyError(\"No text found in image.\")\n",
    "\n",
    "    # 날짜 패턴 정규 표현식 (예: YYYY-MM-DD, YYYY/MM/DD, YYYY.MM.DD, MM-DD)\n",
    "    date_patterns = [\n",
    "        r'\\d{4}-\\d{2}-\\d{2}',  # YYYY-MM-DD\n",
    "        r'\\d{4}/\\d{2}/\\d{2}',  # YYYY/MM/DD\n",
    "        r'\\d{4}\\.\\d{2}\\.\\d{2}',  # YYYY.MM.DD\n",
    "        r'\\d{2}-\\d{2}-\\d{2}',  # YY-MM-DD\n",
    "        r'\\d{2}/\\d{2}/\\d{2}',  # YY/MM/DD\n",
    "        r'\\d{2}\\.\\d{2}\\.\\d{2}',  # YY.MM.DD\n",
    "        r'\\d{2}-\\d{2}',  # MM-DD\n",
    "        r'\\d{2}\\.\\d{2}'  # MM.DD\n",
    "    ]\n",
    "\n",
    "    dates = []\n",
    "    current_year = datetime.now().year\n",
    "    current_date = datetime.now()\n",
    "    for text in texts:\n",
    "        description = text.description\n",
    "        for pattern in date_patterns:\n",
    "            matches = re.findall(pattern, description)\n",
    "            for match in matches:\n",
    "                try:\n",
    "                    # 날짜 형식을 datetime 객체로 변환\n",
    "                    if '-' in match:\n",
    "                        parts = match.split('-')\n",
    "                        if len(parts) == 3 and len(parts[0]) == 4:  # YYYY-MM-DD\n",
    "                            date_obj = datetime.strptime(match, '%Y-%m-%d')\n",
    "                        elif len(parts) == 3:  # YY-MM-DD\n",
    "                            date_obj = datetime.strptime(match, '%y-%m-%d')\n",
    "                            if date_obj.year < 100:\n",
    "                                if date_obj.year <= 12:  # YY가 12 이하인 경우\n",
    "                                    date_obj = date_obj.replace(year=current_year)\n",
    "                                else:\n",
    "                                    date_obj = date_obj.replace(year=date_obj.year + 2000)\n",
    "                        else:  # MM-DD\n",
    "                            mm_dd_date = datetime.strptime(match, '%m-%d')\n",
    "                            if mm_dd_date < datetime.strptime(\"01-10\", '%m-%d'):\n",
    "                                date_obj = datetime.strptime(f\"{current_year+1}-{match}\", '%Y-%m-%d')\n",
    "                            else:\n",
    "                                date_obj = datetime.strptime(f\"{current_year}-{match}\", '%Y-%m-%d')\n",
    "                            if date_obj < current_date:\n",
    "                                date_obj = date_obj.replace(year=date_obj.year + 1)\n",
    "                    elif '/' in match:\n",
    "                        parts = match.split('/')\n",
    "                        if len(parts) == 3 and len(parts[0]) == 4:  # YYYY/MM/DD\n",
    "                            date_obj = datetime.strptime(match, '%Y/%m/%d')\n",
    "                        elif len(parts) == 3:  # YY/MM/DD\n",
    "                            date_obj = datetime.strptime(match, '%y/%m/%d')\n",
    "                            if date_obj.year < 100:\n",
    "                                if date_obj.year <= 12:  # YY가 12 이하인 경우\n",
    "                                    date_obj = date_obj.replace(year=current_year)\n",
    "                                else:\n",
    "                                    date_obj = date_obj.replace(year=date_obj.year + 2000)\n",
    "                        else:  # MM/DD\n",
    "                            mm_dd_date = datetime.strptime(match, '%m/%d')\n",
    "                            if mm_dd_date < datetime.strptime(\"01/10\", '%m/%d'):\n",
    "                                date_obj = datetime.strptime(f\"{current_year+1}/{match}\", '%Y/%m/%d')\n",
    "                            else:\n",
    "                                date_obj = datetime.strptime(f\"{current_year}/{match}\", '%Y/%m/%d')\n",
    "                            if date_obj < current_date:\n",
    "                                date_obj = date_obj.replace(year=date_obj.year + 1)\n",
    "                    elif '.' in match:\n",
    "                        parts = match.split('.')\n",
    "                        if len(parts) == 3 and len(parts[0]) == 4:  # YYYY.MM.DD\n",
    "                            date_obj = datetime.strptime(match, '%Y.%m.%d')\n",
    "                        elif len(parts) == 3:  # YY.MM.DD\n",
    "                            date_obj = datetime.strptime(match, '%y.%m.%d')\n",
    "                            if date_obj.year < 100:\n",
    "                                if date_obj.year <= 12:  # YY가 12 이하인 경우\n",
    "                                    date_obj = date_obj.replace(year=current_year)\n",
    "                                else:\n",
    "                                    date_obj = date_obj.replace(year=date_obj.year + 2000)\n",
    "                        else:  # MM.DD\n",
    "                            mm_dd_date = datetime.strptime(match, '%m.%d')\n",
    "                            if mm_dd_date < datetime.strptime(\"01.10\", '%m.%d'):\n",
    "                                date_obj = datetime.strptime(f\"{current_year+1}.{match}\", '%Y.%m.%d')\n",
    "                            else:\n",
    "                                date_obj = datetime.strptime(f\"{current_year}.{match}\", '%Y.%m.%d')\n",
    "                            if date_obj < current_date:\n",
    "                                date_obj = date_obj.replace(year=date_obj.year + 1)\n",
    "                    dates.append(date_obj)\n",
    "                except ValueError as e:\n",
    "                    print(f\"Date parsing error: {e}\")\n",
    "                    continue\n",
    "\n",
    "    if dates:\n",
    "        latest_date = max(dates)\n",
    "        print(f\"Extracted dates: {dates}\")\n",
    "        print(f\"Latest date: {latest_date}\")\n",
    "        return latest_date.strftime('%Y-%m-%d')\n",
    "    return None\n",
    "\n",
    "def save_output_to_gcs(bucket_name, destination_blob_name, output_data):\n",
    "    bucket = storage_client.bucket(bucket_name)\n",
    "    blob = bucket.blob(destination_blob_name)\n",
    "    output_str = str(output_data)\n",
    "    blob.upload_from_string(output_str)\n",
    "    print(f\"Output saved to gs://{bucket_name}/{destination_blob_name}\")\n",
    "\n",
    "@app.route('/process_image', methods=['POST'])\n",
    "def process_image():\n",
    "    data = request.json\n",
    "    bucket_name = data['bucket_name']\n",
    "    source_blob_name = data['source_blob_name']\n",
    "    destination_file_name = 'temp_image.jpg'\n",
    "    destination_blob_name = data['destination_blob_name']\n",
    "\n",
    "    try:\n",
    "        download_image_from_gcs(bucket_name, source_blob_name, destination_file_name)\n",
    "        expiry_date = extract_expiry_date(destination_file_name)\n",
    "        save_output_to_gcs(bucket_name, destination_blob_name, {\"expiry_date\": expiry_date})\n",
    "        return jsonify({\"status\": \"success\", \"expiry_date\": expiry_date})\n",
    "    except KeyError as e:\n",
    "        app.logger.error(f\"Key error: {e}\", exc_info=True)\n",
    "        return jsonify({\"status\": \"error\", \"message\": f\"Key error: {e}\"}), 400\n",
    "    except Exception as e:\n",
    "        app.logger.error(f\"Error: {e}\", exc_info=True)\n",
    "        return jsonify({\"status\": \"error\", \"message\": f\"Error: {e}\"}), 500\n",
    "\n",
    "if __name__ == '__main__':\n",
    "    app.run(host='0.0.0.0', port=5000)\n"
   ]
  },
  {
   "cell_type": "markdown",
   "id": "a7fed73b-48d9-46f2-98fa-08de7acea2de",
   "metadata": {},
   "source": [
    "# 행이 여러개일때 이미지 추가"
   ]
  },
  {
   "cell_type": "code",
   "execution_count": null,
   "id": "7e52eec5-3bce-45ae-a347-6b21e006d2ab",
   "metadata": {},
   "outputs": [
    {
     "name": "stdout",
     "output_type": "stream",
     "text": [
      " * Serving Flask app '__main__'\n",
      " * Debug mode: off\n"
     ]
    },
    {
     "name": "stderr",
     "output_type": "stream",
     "text": [
      "WARNING: This is a development server. Do not use it in a production deployment. Use a production WSGI server instead.\n",
      " * Running on all addresses (0.0.0.0)\n",
      " * Running on http://127.0.0.1:5000\n",
      " * Running on http://192.168.219.50:5000\n",
      "Press CTRL+C to quit\n"
     ]
    },
    {
     "name": "stdout",
     "output_type": "stream",
     "text": [
      "Blob image.jpg downloaded to temp_image.jpg.\n"
     ]
    },
    {
     "name": "stderr",
     "output_type": "stream",
     "text": [
      "127.0.0.1 - - [02/Jul/2024 12:37:52] \"POST /process_image HTTP/1.1\" 200 -\n"
     ]
    },
    {
     "name": "stdout",
     "output_type": "stream",
     "text": [
      "Date parsing error: time data '21.03' does not match format '%m.%d'\n",
      "Date parsing error: time data '21.03' does not match format '%m.%d'\n",
      "Extracted dates: [datetime.datetime(2021, 3, 29, 0, 0), datetime.datetime(2021, 3, 29, 0, 0), datetime.datetime(2021, 3, 29, 0, 0), datetime.datetime(2021, 3, 29, 0, 0)]\n",
      "Latest date: 2021-03-29 00:00:00\n",
      "Output saved to gs://plzbe/output.txt\n",
      "Blob image.jpg downloaded to temp_image.jpg.\n"
     ]
    },
    {
     "name": "stderr",
     "output_type": "stream",
     "text": [
      "127.0.0.1 - - [02/Jul/2024 13:23:03] \"POST /process_image HTTP/1.1\" 200 -\n"
     ]
    },
    {
     "name": "stdout",
     "output_type": "stream",
     "text": [
      "Date parsing error: time data '20.09' does not match format '%m.%d'\n",
      "Date parsing error: time data '21.09' does not match format '%m.%d'\n",
      "Date parsing error: time data '20.09' does not match format '%m.%d'\n",
      "Date parsing error: time data '21.09' does not match format '%m.%d'\n",
      "Extracted dates: [datetime.datetime(2020, 9, 10, 0, 0), datetime.datetime(2021, 9, 9, 0, 0), datetime.datetime(2020, 9, 10, 0, 0), datetime.datetime(2021, 9, 9, 0, 0), datetime.datetime(2020, 9, 10, 0, 0), datetime.datetime(2020, 9, 10, 0, 0), datetime.datetime(2021, 9, 9, 0, 0), datetime.datetime(2021, 9, 9, 0, 0)]\n",
      "Latest date: 2021-09-09 00:00:00\n",
      "Output saved to gs://plzbe/output.txt\n",
      "Blob image.jpg downloaded to temp_image.jpg.\n"
     ]
    },
    {
     "name": "stderr",
     "output_type": "stream",
     "text": [
      "[2024-07-02 13:23:05,753] ERROR in 2337286461: Error: name 'year' is not defined\n",
      "Traceback (most recent call last):\n",
      "  File \"C:\\Users\\smhrd\\AppData\\Local\\Temp\\ipykernel_16976\\2337286461.py\", line 139, in process_image\n",
      "    expiry_date = extract_expiry_date(destination_file_name)\n",
      "                  ^^^^^^^^^^^^^^^^^^^^^^^^^^^^^^^^^^^^^^^^^^\n",
      "  File \"C:\\Users\\smhrd\\AppData\\Local\\Temp\\ipykernel_16976\\2337286461.py\", line 109, in extract_expiry_date\n",
      "    date_obj = date_obj.replace(year(date_obj.year + 1))\n",
      "                                ^^^^\n",
      "NameError: name 'year' is not defined\n",
      "127.0.0.1 - - [02/Jul/2024 13:23:05] \"POST /process_image HTTP/1.1\" 500 -\n"
     ]
    },
    {
     "name": "stdout",
     "output_type": "stream",
     "text": [
      "Blob image.jpg downloaded to temp_image.jpg.\n"
     ]
    },
    {
     "name": "stderr",
     "output_type": "stream",
     "text": [
      "127.0.0.1 - - [02/Jul/2024 13:23:14] \"POST /process_image HTTP/1.1\" 200 -\n"
     ]
    },
    {
     "name": "stdout",
     "output_type": "stream",
     "text": [
      "Extracted dates: [datetime.datetime(2025, 6, 6, 0, 0), datetime.datetime(2025, 1, 6, 0, 0), datetime.datetime(2025, 1, 6, 0, 0), datetime.datetime(2025, 1, 6, 0, 0), datetime.datetime(2025, 6, 6, 0, 0), datetime.datetime(2025, 1, 6, 0, 0)]\n",
      "Latest date: 2025-06-06 00:00:00\n",
      "Output saved to gs://plzbe/output.txt\n",
      "Blob image.jpg downloaded to temp_image.jpg.\n"
     ]
    },
    {
     "name": "stderr",
     "output_type": "stream",
     "text": [
      "[2024-07-02 13:23:22,039] ERROR in 2337286461: Error: name 'year' is not defined\n",
      "Traceback (most recent call last):\n",
      "  File \"C:\\Users\\smhrd\\AppData\\Local\\Temp\\ipykernel_16976\\2337286461.py\", line 139, in process_image\n",
      "    expiry_date = extract_expiry_date(destination_file_name)\n",
      "                  ^^^^^^^^^^^^^^^^^^^^^^^^^^^^^^^^^^^^^^^^^^\n",
      "  File \"C:\\Users\\smhrd\\AppData\\Local\\Temp\\ipykernel_16976\\2337286461.py\", line 109, in extract_expiry_date\n",
      "    date_obj = date_obj.replace(year(date_obj.year + 1))\n",
      "                                ^^^^\n",
      "NameError: name 'year' is not defined\n",
      "127.0.0.1 - - [02/Jul/2024 13:23:22] \"POST /process_image HTTP/1.1\" 500 -\n"
     ]
    },
    {
     "name": "stdout",
     "output_type": "stream",
     "text": [
      "Blob image.jpg downloaded to temp_image.jpg.\n"
     ]
    },
    {
     "name": "stderr",
     "output_type": "stream",
     "text": [
      "127.0.0.1 - - [02/Jul/2024 13:23:26] \"POST /process_image HTTP/1.1\" 200 -\n"
     ]
    },
    {
     "name": "stdout",
     "output_type": "stream",
     "text": [
      "Extracted dates: [datetime.datetime(2025, 6, 6, 0, 0), datetime.datetime(2025, 1, 6, 0, 0), datetime.datetime(2025, 1, 6, 0, 0), datetime.datetime(2025, 1, 6, 0, 0), datetime.datetime(2025, 6, 6, 0, 0), datetime.datetime(2025, 1, 6, 0, 0)]\n",
      "Latest date: 2025-06-06 00:00:00\n",
      "Output saved to gs://plzbe/output.txt\n",
      "Blob image.jpg downloaded to temp_image.jpg.\n"
     ]
    },
    {
     "name": "stderr",
     "output_type": "stream",
     "text": [
      "127.0.0.1 - - [02/Jul/2024 13:23:30] \"POST /process_image HTTP/1.1\" 200 -\n"
     ]
    },
    {
     "name": "stdout",
     "output_type": "stream",
     "text": [
      "Date parsing error: time data '15.11' does not match format '%m.%d'\n",
      "Date parsing error: time data '15.11' does not match format '%m.%d'\n",
      "Extracted dates: [datetime.datetime(2015, 11, 9, 0, 0), datetime.datetime(2015, 11, 9, 0, 0)]\n",
      "Latest date: 2015-11-09 00:00:00\n",
      "Output saved to gs://plzbe/output.txt\n",
      "Blob image.jpg downloaded to temp_image.jpg.\n",
      "Date parsing error: time data '25-01' does not match format '%m-%d'\n",
      "Date parsing error: time data '25-01' does not match format '%m-%d'\n",
      "Extracted dates: [datetime.datetime(2025, 1, 10, 0, 0), datetime.datetime(2025, 1, 10, 0, 0), datetime.datetime(2025, 1, 10, 0, 0), datetime.datetime(2025, 1, 10, 0, 0)]\n",
      "Latest date: 2025-01-10 00:00:00\n"
     ]
    },
    {
     "name": "stderr",
     "output_type": "stream",
     "text": [
      "127.0.0.1 - - [02/Jul/2024 13:23:33] \"POST /process_image HTTP/1.1\" 200 -\n"
     ]
    },
    {
     "name": "stdout",
     "output_type": "stream",
     "text": [
      "Output saved to gs://plzbe/output.txt\n",
      "Blob image.jpg downloaded to temp_image.jpg.\n"
     ]
    },
    {
     "name": "stderr",
     "output_type": "stream",
     "text": [
      "127.0.0.1 - - [02/Jul/2024 13:23:35] \"POST /process_image HTTP/1.1\" 200 -\n"
     ]
    },
    {
     "name": "stdout",
     "output_type": "stream",
     "text": [
      "Extracted dates: [datetime.datetime(2025, 6, 6, 0, 0), datetime.datetime(2025, 1, 6, 0, 0), datetime.datetime(2025, 1, 6, 0, 0), datetime.datetime(2025, 1, 6, 0, 0), datetime.datetime(2025, 6, 6, 0, 0), datetime.datetime(2025, 1, 6, 0, 0)]\n",
      "Latest date: 2025-06-06 00:00:00\n",
      "Output saved to gs://plzbe/output.txt\n",
      "Blob image.jpg downloaded to temp_image.jpg.\n"
     ]
    },
    {
     "name": "stderr",
     "output_type": "stream",
     "text": [
      "[2024-07-02 13:23:38,304] ERROR in 2337286461: Error: name 'year' is not defined\n",
      "Traceback (most recent call last):\n",
      "  File \"C:\\Users\\smhrd\\AppData\\Local\\Temp\\ipykernel_16976\\2337286461.py\", line 139, in process_image\n",
      "    expiry_date = extract_expiry_date(destination_file_name)\n",
      "                  ^^^^^^^^^^^^^^^^^^^^^^^^^^^^^^^^^^^^^^^^^^\n",
      "  File \"C:\\Users\\smhrd\\AppData\\Local\\Temp\\ipykernel_16976\\2337286461.py\", line 109, in extract_expiry_date\n",
      "    date_obj = date_obj.replace(year(date_obj.year + 1))\n",
      "                                ^^^^\n",
      "NameError: name 'year' is not defined\n",
      "127.0.0.1 - - [02/Jul/2024 13:23:38] \"POST /process_image HTTP/1.1\" 500 -\n"
     ]
    },
    {
     "name": "stdout",
     "output_type": "stream",
     "text": [
      "Blob image.jpg downloaded to temp_image.jpg.\n",
      "Date parsing error: time data '21.03' does not match format '%m.%d'\n",
      "Date parsing error: time data '21.03' does not match format '%m.%d'\n",
      "Extracted dates: [datetime.datetime(2021, 3, 29, 0, 0), datetime.datetime(2021, 3, 29, 0, 0), datetime.datetime(2021, 3, 29, 0, 0), datetime.datetime(2021, 3, 29, 0, 0)]\n",
      "Latest date: 2021-03-29 00:00:00\n"
     ]
    },
    {
     "name": "stderr",
     "output_type": "stream",
     "text": [
      "127.0.0.1 - - [02/Jul/2024 13:23:42] \"POST /process_image HTTP/1.1\" 200 -\n"
     ]
    },
    {
     "name": "stdout",
     "output_type": "stream",
     "text": [
      "Output saved to gs://plzbe/output.txt\n"
     ]
    },
    {
     "name": "stderr",
     "output_type": "stream",
     "text": [
      "[2024-07-02 13:23:45,757] ERROR in 2337286461: Error: name 'year' is not defined\n",
      "Traceback (most recent call last):\n",
      "  File \"C:\\Users\\smhrd\\AppData\\Local\\Temp\\ipykernel_16976\\2337286461.py\", line 139, in process_image\n",
      "    expiry_date = extract_expiry_date(destination_file_name)\n",
      "                  ^^^^^^^^^^^^^^^^^^^^^^^^^^^^^^^^^^^^^^^^^^\n",
      "  File \"C:\\Users\\smhrd\\AppData\\Local\\Temp\\ipykernel_16976\\2337286461.py\", line 109, in extract_expiry_date\n",
      "    date_obj = date_obj.replace(year(date_obj.year + 1))\n",
      "                                ^^^^\n",
      "NameError: name 'year' is not defined\n"
     ]
    },
    {
     "name": "stdout",
     "output_type": "stream",
     "text": [
      "Blob image.jpg downloaded to temp_image.jpg.\n",
      "Date parsing error: time data '03.02.00' does not match format '%y.%m.%d'\n",
      "Date parsing error: time data '03.13.00' does not match format '%y.%m.%d'\n"
     ]
    },
    {
     "name": "stderr",
     "output_type": "stream",
     "text": [
      "127.0.0.1 - - [02/Jul/2024 13:23:45] \"POST /process_image HTTP/1.1\" 500 -\n"
     ]
    },
    {
     "name": "stdout",
     "output_type": "stream",
     "text": [
      "Blob image.jpg downloaded to temp_image.jpg.\n"
     ]
    },
    {
     "name": "stderr",
     "output_type": "stream",
     "text": [
      "127.0.0.1 - - [02/Jul/2024 13:23:49] \"POST /process_image HTTP/1.1\" 200 -\n"
     ]
    },
    {
     "name": "stdout",
     "output_type": "stream",
     "text": [
      "Date parsing error: time data '20.09' does not match format '%m.%d'\n",
      "Date parsing error: time data '21.09' does not match format '%m.%d'\n",
      "Date parsing error: time data '20.09' does not match format '%m.%d'\n",
      "Date parsing error: time data '21.09' does not match format '%m.%d'\n",
      "Extracted dates: [datetime.datetime(2020, 9, 10, 0, 0), datetime.datetime(2021, 9, 9, 0, 0), datetime.datetime(2020, 9, 10, 0, 0), datetime.datetime(2021, 9, 9, 0, 0), datetime.datetime(2020, 9, 10, 0, 0), datetime.datetime(2020, 9, 10, 0, 0), datetime.datetime(2021, 9, 9, 0, 0), datetime.datetime(2021, 9, 9, 0, 0)]\n",
      "Latest date: 2021-09-09 00:00:00\n",
      "Output saved to gs://plzbe/output.txt\n",
      "Blob image.jpg downloaded to temp_image.jpg.\n"
     ]
    },
    {
     "name": "stderr",
     "output_type": "stream",
     "text": [
      "127.0.0.1 - - [02/Jul/2024 13:23:52] \"POST /process_image HTTP/1.1\" 200 -\n"
     ]
    },
    {
     "name": "stdout",
     "output_type": "stream",
     "text": [
      "Date parsing error: time data '24.05' does not match format '%m.%d'\n",
      "Date parsing error: time data '24.05' does not match format '%m.%d'\n",
      "Extracted dates: [datetime.datetime(2024, 5, 13, 0, 0), datetime.datetime(2024, 5, 13, 0, 0)]\n",
      "Latest date: 2024-05-13 00:00:00\n",
      "Output saved to gs://plzbe/output.txt\n",
      "Blob image.jpg downloaded to temp_image.jpg.\n"
     ]
    },
    {
     "name": "stderr",
     "output_type": "stream",
     "text": [
      "127.0.0.1 - - [02/Jul/2024 13:23:56] \"POST /process_image HTTP/1.1\" 200 -\n"
     ]
    },
    {
     "name": "stdout",
     "output_type": "stream",
     "text": [
      "Date parsing error: time data '15.11' does not match format '%m.%d'\n",
      "Date parsing error: time data '15.11' does not match format '%m.%d'\n",
      "Extracted dates: [datetime.datetime(2015, 11, 9, 0, 0), datetime.datetime(2015, 11, 9, 0, 0)]\n",
      "Latest date: 2015-11-09 00:00:00\n",
      "Output saved to gs://plzbe/output.txt\n",
      "Blob image.jpg downloaded to temp_image.jpg.\n"
     ]
    },
    {
     "name": "stderr",
     "output_type": "stream",
     "text": [
      "127.0.0.1 - - [02/Jul/2024 14:17:04] \"POST /process_image HTTP/1.1\" 200 -\n"
     ]
    },
    {
     "name": "stdout",
     "output_type": "stream",
     "text": [
      "Date parsing error: time data '24.05' does not match format '%m.%d'\n",
      "Date parsing error: time data '24.05' does not match format '%m.%d'\n",
      "Extracted dates: [datetime.datetime(2024, 5, 24, 0, 0), datetime.datetime(2024, 5, 24, 0, 0), datetime.datetime(2024, 5, 24, 0, 0), datetime.datetime(2024, 5, 24, 0, 0)]\n",
      "Latest date: 2024-05-24 00:00:00\n",
      "Output saved to gs://plzbe/output.txt\n"
     ]
    }
   ],
   "source": [
    "from flask import Flask, request, jsonify\n",
    "from google.cloud import storage, vision\n",
    "from google.oauth2 import service_account\n",
    "import os\n",
    "import re\n",
    "from datetime import datetime\n",
    "\n",
    "app = Flask(__name__)\n",
    "\n",
    "credentials = service_account.Credentials.from_service_account_file('api_key4.json')\n",
    "vision_client = vision.ImageAnnotatorClient(credentials=credentials)\n",
    "storage_client = storage.Client(credentials=credentials)\n",
    "\n",
    "def download_image_from_gcs(bucket_name, source_blob_name, destination_file_name):\n",
    "    bucket = storage_client.bucket(bucket_name)\n",
    "    blob = bucket.blob(source_blob_name)\n",
    "    blob.download_to_filename(destination_file_name)\n",
    "    print(f\"Blob {source_blob_name} downloaded to {destination_file_name}.\")\n",
    "\n",
    "def extract_expiry_date(image_path):\n",
    "    with open(image_path, 'rb') as image_file:\n",
    "        content = image_file.read()\n",
    "\n",
    "    image = vision.Image(content=content)\n",
    "    response = vision_client.text_detection(image=image)\n",
    "    texts = response.text_annotations\n",
    "\n",
    "    if not texts:\n",
    "        raise KeyError(\"No text found in image.\")\n",
    "\n",
    "    # 날짜 패턴 정규 표현식 (예: YYYY-MM-DD, YYYY/MM/DD, YYYY.MM.DD, MM-DD)\n",
    "    date_patterns = [\n",
    "        r'\\d{4}-\\d{2}-\\d{2}',  # YYYY-MM-DD\n",
    "        r'\\d{4}/\\d{2}/\\d{2}',  # YYYY/MM/DD\n",
    "        r'\\d{4}\\.\\d{2}\\.\\d{2}',  # YYYY.MM.DD\n",
    "        r'\\d{2}-\\d{2}-\\d{2}',  # YY-MM-DD\n",
    "        r'\\d{2}/\\d{2}/\\d{2}',  # YY/MM/DD\n",
    "        r'\\d{2}\\.\\d{2}\\.\\d{2}',  # YY.MM.DD\n",
    "        r'\\d{2}-\\d{2}',  # MM-DD\n",
    "        r'\\d{2}\\.\\d{2}'  # MM.DD\n",
    "    ]\n",
    "\n",
    "    dates = []\n",
    "    current_year = datetime.now().year\n",
    "    current_date = datetime.now()\n",
    "    for text in texts:\n",
    "        description = text.description\n",
    "        for pattern in date_patterns:\n",
    "            matches = re.findall(pattern, description)\n",
    "            for match in matches:\n",
    "                try:\n",
    "                    # 날짜 형식을 datetime 객체로 변환\n",
    "                    if '-' in match:\n",
    "                        parts = match.split('-')\n",
    "                        if len(parts) == 3 and len(parts[0]) == 4:  # YYYY-MM-DD\n",
    "                            date_obj = datetime.strptime(match, '%Y-%m-%d')\n",
    "                        elif len(parts) == 3:  # YY-MM-DD\n",
    "                            date_obj = datetime.strptime(match, '%y-%m-%d')\n",
    "                            if date_obj.year < 100:\n",
    "                                if date_obj.year <= 12:  # YY가 12 이하인 경우\n",
    "                                    date_obj = date_obj.replace(year=current_year)\n",
    "                                else:\n",
    "                                    date_obj = date_obj.replace(year=date_obj.year + 2000)\n",
    "                        else:  # MM-DD\n",
    "                            mm_dd_date = datetime.strptime(match, '%m-%d')\n",
    "                            if mm_dd_date < datetime.strptime(\"01-10\", '%m-%d'):\n",
    "                                date_obj = datetime.strptime(f\"{current_year+1}-{match}\", '%Y-%m-%d')\n",
    "                            else:\n",
    "                                date_obj = datetime.strptime(f\"{current_year}-{match}\", '%Y-%m-%d')\n",
    "                            if date_obj < current_date:\n",
    "                                date_obj = date_obj.replace(year=date_obj.year + 1)\n",
    "                    elif '/' in match:\n",
    "                        parts = match.split('/')\n",
    "                        if len(parts) == 3 and len(parts[0]) == 4:  # YYYY/MM/DD\n",
    "                            date_obj = datetime.strptime(match, '%Y/%m/%d')\n",
    "                        elif len(parts) == 3:  # YY/MM/DD\n",
    "                            date_obj = datetime.strptime(match, '%y/%m/%d')\n",
    "                            if date_obj.year < 100:\n",
    "                                if date_obj.year <= 12:  # YY가 12 이하인 경우\n",
    "                                    date_obj = date_obj.replace(year=current_year)\n",
    "                                else:\n",
    "                                    date_obj = date_obj.replace(year=date_obj.year + 2000)\n",
    "                        else:  # MM/DD\n",
    "                            mm_dd_date = datetime.strptime(match, '%m/%d')\n",
    "                            if mm_dd_date < datetime.strptime(\"01/10\", '%m/%d'):\n",
    "                                date_obj = datetime.strptime(f\"{current_year+1}/{match}\", '%Y/%m/%d')\n",
    "                            else:\n",
    "                                date_obj = datetime.strptime(f\"{current_year}/{match}\", '%Y/%m/%d')\n",
    "                            if date_obj < current_date:\n",
    "                                date_obj = date_obj.replace(year=date_obj.year + 1)\n",
    "                    elif '.' in match:\n",
    "                        parts = match.split('.')\n",
    "                        if len(parts) == 3 and len(parts[0]) == 4:  # YYYY.MM.DD\n",
    "                            date_obj = datetime.strptime(match, '%Y.%m.%d')\n",
    "                        elif len(parts) == 3:  # YY.MM.DD\n",
    "                            date_obj = datetime.strptime(match, '%y.%m.%d')\n",
    "                            if date_obj.year < 100:\n",
    "                                if date_obj.year <= 12:  # YY가 12 이하인 경우\n",
    "                                    date_obj = date_obj.replace(year=current_year)\n",
    "                                else:\n",
    "                                    date_obj = date_obj.replace(year(date_obj.year + 2000))\n",
    "                        else:  # MM.DD\n",
    "                            mm_dd_date = datetime.strptime(match, '%m.%d')\n",
    "                            if mm_dd_date < datetime.strptime(\"01.10\", '%m.%d'):\n",
    "                                date_obj = datetime.strptime(f\"{current_year+1}.{match}\", '%Y.%m.%d')\n",
    "                            else:\n",
    "                                date_obj = datetime.strptime(f\"{current_year}.{match}\", '%Y.%m.%d')\n",
    "                            if date_obj < current_date:\n",
    "                                date_obj = date_obj.replace(year(date_obj.year + 1))\n",
    "                    dates.append(date_obj)\n",
    "                except ValueError as e:\n",
    "                    print(f\"Date parsing error: {e}\")\n",
    "                    continue\n",
    "\n",
    "    if dates:\n",
    "        latest_date = max(dates)\n",
    "        print(f\"Extracted dates: {dates}\")\n",
    "        print(f\"Latest date: {latest_date}\")\n",
    "        return latest_date.strftime('%Y-%m-%d')\n",
    "    return None\n",
    "\n",
    "def save_output_to_gcs(bucket_name, destination_blob_name, output_data):\n",
    "    bucket = storage_client.bucket(bucket_name)\n",
    "    blob = bucket.blob(destination_blob_name)\n",
    "    output_str = str(output_data)\n",
    "    blob.upload_from_string(output_str)\n",
    "    print(f\"Output saved to gs://{bucket_name}/{destination_blob_name}\")\n",
    "\n",
    "@app.route('/process_image', methods=['POST'])\n",
    "def process_image():\n",
    "    data = request.json\n",
    "    bucket_name = data['bucket_name']\n",
    "    source_blob_name = data['source_blob_name']\n",
    "    destination_file_name = 'temp_image.jpg'\n",
    "    destination_blob_name = data['destination_blob_name']\n",
    "\n",
    "    try:\n",
    "        download_image_from_gcs(bucket_name, source_blob_name, destination_file_name)\n",
    "        expiry_date = extract_expiry_date(destination_file_name)\n",
    "        save_output_to_gcs(bucket_name, destination_blob_name, {\"expiry_date\": expiry_date})\n",
    "        return jsonify({\"status\": \"success\", \"expiry_date\": expiry_date})\n",
    "    except KeyError as e:\n",
    "        app.logger.error(f\"Key error: {e}\", exc_info=True)\n",
    "        return jsonify({\"status\": \"error\", \"message\": f\"Key error: {e}\"}), 400\n",
    "    except Exception as e:\n",
    "        app.logger.error(f\"Error: {e}\", exc_info=True)\n",
    "        return jsonify({\"status\": \"error\", \"message\": f\"Error: {e}\"}), 500\n",
    "\n",
    "if __name__ == '__main__':\n",
    "    app.run(host='0.0.0.0', port=5000)\n"
   ]
  }
 ],
 "metadata": {
  "kernelspec": {
   "display_name": "Python 3 (ipykernel)",
   "language": "python",
   "name": "python3"
  },
  "language_info": {
   "codemirror_mode": {
    "name": "ipython",
    "version": 3
   },
   "file_extension": ".py",
   "mimetype": "text/x-python",
   "name": "python",
   "nbconvert_exporter": "python",
   "pygments_lexer": "ipython3",
   "version": "3.11.7"
  }
 },
 "nbformat": 4,
 "nbformat_minor": 5
}
